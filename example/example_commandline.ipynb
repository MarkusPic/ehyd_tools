{
 "cells": [
  {
   "cell_type": "code",
   "execution_count": 1,
   "metadata": {
    "pycharm": {
     "name": "#%%\n"
    }
   },
   "outputs": [
    {
     "name": "stdout",
     "output_type": "stream",
     "text": [
      "Python 3.8.1\n"
     ]
    }
   ],
   "source": [
    "! python -V"
   ]
  },
  {
   "cell_type": "code",
   "execution_count": 2,
   "metadata": {},
   "outputs": [
    {
     "name": "stdout",
     "output_type": "stream",
     "text": [
      "usage: __main__.py [-h] [-id ID] [--input INPUT] [--max10a] [--start START]\n",
      "                   [--end END] [--add_gaps] [--to_csv] [--to_parquet] [--plot]\n",
      "                   [--statistics] [--meta] [--unix]\n",
      "\n",
      "optional arguments:\n",
      "  -h, --help     show this help message and exit\n",
      "  -id ID         the id number for the station from the ehyd.gv.at platform\n",
      "  --input INPUT  path to the rain input file including the filename\n",
      "  --max10a       consider only 10 years with the most availability (for\n",
      "                 clipping the data)\n",
      "  --start START  custom start time (Format=\"YYYY-MM-DD\") for clipping the data\n",
      "  --end END      custom end time (Format=\"YYYY-MM-DD\") for clipping the data\n",
      "  --add_gaps     save a gaps-table as a csv-file\n",
      "  --to_csv       save the time-series as csv-file (to the current directory if\n",
      "                 the id is used or in the directory of the input-file)\n",
      "  --to_parquet   save the time-series as parquet-file (to the current\n",
      "                 directory if the id is used or in the directory of the input-\n",
      "                 file) - parquet is a much faster as csv to read and write\n",
      "  --plot         save a bar-plot with monthly sums and availability as a png-\n",
      "                 file\n",
      "  --statistics   save the basic statistics (sum, max & min) as a txt-file\n",
      "  --meta         save the meta-data presented in ehyd as a txt-file\n",
      "  --unix         export the csv files with a \",\" as separator and a \".\" as\n",
      "                 decimal sign (otherwise \";\" as separator and a \",\" as decimal\n",
      "                 sign will be used)\n"
     ]
    }
   ],
   "source": [
    "! python -m ehyd_tools -h"
   ]
  },
  {
   "cell_type": "code",
   "execution_count": 3,
   "metadata": {},
   "outputs": [
    {
     "name": "stdout",
     "output_type": "stream",
     "text": [
      "The meta-data are saved in in the current working directory as \"{}\".\n",
      "You choose the station: \"Graz-Andritz\" with the id: \"112086\".\n",
      "The selected time-series starts at \"2007-09-17\" and ends at \"2017-01-01\".\n",
      "WARNING: The Series is only 9.3 < 10 years long!\n",
      "The time-series is saved in the current working directory as \"{}\".\n"
     ]
    }
   ],
   "source": [
    "! python -m ehyd_tools -id 112086 --to_csv --meta"
   ]
  },
  {
   "cell_type": "code",
   "execution_count": 4,
   "metadata": {},
   "outputs": [
    {
     "name": "stdout",
     "output_type": "stream",
     "text": [
      "Messstelle:                Graz-Andritz\n",
      "HZB-Nummer:                112086\n",
      "Errichtet:                 1946\n",
      "Sachgebiet:                NLV\n",
      "Dienststelle:              HD-Steiermark\n",
      "Messstellenbetreiber:      Hydrographischer Dienst\n",
      "\n",
      "Höhe:\n",
      " gültig seit:              Höhe [m ü.A.]:\n",
      "  01.01.1946               360\n",
      "  01.01.2011               361\n",
      "\n",
      "Geographische Koordinaten (Referenzellipsoid: Bessel 1841):\n",
      " gültig seit:              Länge (Grad,Min,Sek):    Breite  (Grad,Min,Sek):\n",
      "  01.01.1946               15 24 46                 47 06 05\n",
      "  01.01.2011               15 24 57                 47 06 35\n",
      "\n",
      "Messgrößen,-art:           seit:     bis:\n",
      "  Niederschlag-Ombrometer  1946\n",
      "  Niederschlag-Ombrograph  2007\n",
      "  Schneehöhe               1946\n",
      "  Neuschneehöhe            1946\n",
      "  Temperatur               1947\n"
     ]
    }
   ],
   "source": [
    "! type ehyd_112086_meta.txt"
   ]
  },
  {
   "cell_type": "code",
   "execution_count": 5,
   "metadata": {},
   "outputs": [
    {
     "name": "stdout",
     "output_type": "stream",
     "text": [
      "The data in \"ehyd_112086.csv\" were imported and are used as the precipitation time-series.\n",
      "The selected time-series starts at \"2007-09-17\" and ends at \"2017-01-01\".\n",
      "WARNING: The Series is only 9.3 < 10 years long!\n",
      "The time-series is saved in the current working directory as \"{}\".\n"
     ]
    }
   ],
   "source": [
    "! python -m ehyd_tools --input ehyd_112086.csv --to_parquet"
   ]
  },
  {
   "cell_type": "code",
   "execution_count": 6,
   "metadata": {},
   "outputs": [
    {
     "name": "stdout",
     "output_type": "stream",
     "text": [
      "The data in \"ehyd_112086.parquet\" were imported and are used as the precipitation time-series.\n",
      "The selected time-series starts at \"2007-09-17\" and ends at \"2017-01-01\".\n",
      "WARNING: The Series is only 7.0 < 10 years long!\n",
      "The time-series is clipped to start at \"2010-01-01\" and end at \"2017-01-01\".\n"
     ]
    }
   ],
   "source": [
    "! python -m ehyd_tools --input ehyd_112086.parquet --start \"2010-01-01\""
   ]
  },
  {
   "cell_type": "code",
   "execution_count": 7,
   "metadata": {},
   "outputs": [
    {
     "name": "stdout",
     "output_type": "stream",
     "text": [
      "The data in \"ehyd_112086.parquet\" were imported and are used as the precipitation time-series.\n",
      "The selected time-series starts at \"2007-09-17\" and ends at \"2017-01-01\".\n",
      "WARNING: The Series is only 2.3 < 10 years long!\n",
      "The time-series is clipped to start at \"2007-09-17\" and end at \"2010-01-01\".\n"
     ]
    }
   ],
   "source": [
    "! python -m ehyd_tools --input ehyd_112086.parquet --end \"2010-01-01\""
   ]
  },
  {
   "cell_type": "code",
   "execution_count": 8,
   "metadata": {},
   "outputs": [
    {
     "name": "stdout",
     "output_type": "stream",
     "text": [
      "The data in \"ehyd_112086.parquet\" were imported and are used as the precipitation time-series.\n",
      "The selected time-series starts at \"2007-09-17\" and ends at \"2017-01-01\".\n",
      "WARNING: The Series is only 9.3 < 10 years long!\n",
      "WARNING: The Series is only 9.3 < 10 years long!\n",
      "The time-series is clipped to start at \"2007-09-17\" and end at \"2017-01-01\".\n"
     ]
    }
   ],
   "source": [
    "! python -m ehyd_tools --input ehyd_112086.parquet --max10a"
   ]
  },
  {
   "cell_type": "code",
   "execution_count": 14,
   "metadata": {},
   "outputs": [
    {
     "name": "stdout",
     "output_type": "stream",
     "text": [
      "The data in \"ehyd_112086.parquet\" were imported and are used as the precipitation time-series.\n",
      "The selected time-series starts at \"2007-09-17\" and ends at \"2017-01-01\".\n",
      "WARNING: The Series is only 9.3 < 10 years long!\n",
      "The gaps table is saved in the current working directory as \"ehyd_112086_gaps.csv\".\n"
     ]
    }
   ],
   "source": [
    "! python -m ehyd_tools --input ehyd_112086.parquet --add_gaps"
   ]
  },
  {
   "cell_type": "code",
   "execution_count": 10,
   "metadata": {},
   "outputs": [
    {
     "name": "stdout",
     "output_type": "stream",
     "text": [
      ";start;end;gaps in days\n",
      "1;2017-01-01 00:00:00;2017-12-31 23:59:00;364,999\n",
      "0;2007-01-01 00:00:00;2007-09-17 13:55:00;259,580\n"
     ]
    }
   ],
   "source": [
    "! type ehyd_112086_gaps.csv"
   ]
  },
  {
   "cell_type": "code",
   "execution_count": 15,
   "metadata": {},
   "outputs": [
    {
     "name": "stdout",
     "output_type": "stream",
     "text": [
      "The data in \"ehyd_112086.parquet\" were imported and are used as the precipitation time-series.\n",
      "The selected time-series starts at \"2007-09-17\" and ends at \"2017-01-01\".\n",
      "WARNING: The Series is only 9.3 < 10 years long!\n",
      "The plot is saved in the current working directory as \"ehyd_112086_plot.png\".\n"
     ]
    }
   ],
   "source": [
    "! python -m ehyd_tools --input ehyd_112086.parquet --plot"
   ]
  },
  {
   "cell_type": "markdown",
   "metadata": {},
   "source": [
    "![Regenhöhenlinien](ehyd_112086_plot.png)"
   ]
  },
  {
   "cell_type": "markdown",
   "metadata": {},
   "source": [
    "[](ehyd_112086_plot.png)"
   ]
  },
  {
   "cell_type": "code",
   "execution_count": 16,
   "metadata": {},
   "outputs": [
    {
     "name": "stdout",
     "output_type": "stream",
     "text": [
      "The data in \"ehyd_112086.parquet\" were imported and are used as the precipitation time-series.\n",
      "The selected time-series starts at \"2007-09-17\" and ends at \"2017-01-01\".\n",
      "WARNING: The Series is only 9.3 < 10 years long!\n",
      "The statistics are saved in the current working directory as \"ehyd_112086_stats.txt\".\n"
     ]
    }
   ],
   "source": [
    "! python -m ehyd_tools --input ehyd_112086.parquet --statistics"
   ]
  },
  {
   "cell_type": "code",
   "execution_count": 17,
   "metadata": {},
   "outputs": [
    {
     "name": "stdout",
     "output_type": "stream",
     "text": [
      "The annual totals of the data series serve as the data basis.\n",
      "The following statistics were analyzed:\n",
      "Only years with a availability of 90% will be evaluated.\n",
      "\n",
      "The maximum is 1189 mm and was in the year 2009 (with 100% Data available).\n",
      "The minimum is 566 mm and was in the year 2011 (with 100% Data available).\n",
      "The mean is 871 mm (with 84% Data available in average).\n"
     ]
    }
   ],
   "source": [
    "! type ehyd_112086_stats.txt"
   ]
  }
 ],
 "metadata": {
  "kernelspec": {
   "display_name": "Python 3",
   "language": "python",
   "name": "python3"
  },
  "language_info": {
   "codemirror_mode": {
    "name": "ipython",
    "version": 3
   },
   "file_extension": ".py",
   "mimetype": "text/x-python",
   "name": "python",
   "nbconvert_exporter": "python",
   "pygments_lexer": "ipython3",
   "version": "3.8.1"
  }
 },
 "nbformat": 4,
 "nbformat_minor": 1
}
