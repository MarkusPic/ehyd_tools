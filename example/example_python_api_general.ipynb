{
 "cells": [
  {
   "cell_type": "code",
   "metadata": {
    "ExecuteTime": {
     "end_time": "2025-03-25T13:23:02.677523Z",
     "start_time": "2025-03-25T13:23:02.606534Z"
    }
   },
   "source": [
    "import pandas as pd\n",
    "import json\n",
    "from ehyd_tools.in_out import (get_ehyd_data, FIELDS, DATA_KIND, get_basic_station_meta, get_files_available,\n",
    "                               get_station_reference_data, get_ehyd_station_frame, get_ehyd_files)"
   ],
   "outputs": [],
   "execution_count": 1
  },
  {
   "cell_type": "code",
   "metadata": {
    "ExecuteTime": {
     "end_time": "2025-03-25T13:23:02.690888Z",
     "start_time": "2025-03-25T13:23:02.683252Z"
    }
   },
   "source": [
    "field = FIELDS.NIEDERSCHLAG\n",
    "get_ehyd_station_frame(field).head()"
   ],
   "outputs": [
    {
     "data": {
      "text/plain": [
       "        Messstellen Name  Jahr        Bundesland                          Flussgebiet  Seehöhe\n",
       "Mst. ID                                                                                       \n",
       "107839           Absdorf  2017  Niederösterreich  Donaugebiet zwischen Enns und March      182\n",
       "115063           Abtenau  2017          Salzburg                        Salzachgebiet      711\n",
       "104489    Ach-Burghausen  2017    Oberösterreich                        Salzachgebiet      473\n",
       "101345        Achenkirch  2017             Tirol         Donaugebiet oberhalb des Inn      906\n",
       "115154         Ackernalm  2017             Tirol       Inngebiet oberhalb der Salzach     1324"
      ],
      "text/html": [
       "<div>\n",
       "<style scoped>\n",
       "    .dataframe tbody tr th:only-of-type {\n",
       "        vertical-align: middle;\n",
       "    }\n",
       "\n",
       "    .dataframe tbody tr th {\n",
       "        vertical-align: top;\n",
       "    }\n",
       "\n",
       "    .dataframe thead th {\n",
       "        text-align: right;\n",
       "    }\n",
       "</style>\n",
       "<table border=\"1\" class=\"dataframe\">\n",
       "  <thead>\n",
       "    <tr style=\"text-align: right;\">\n",
       "      <th></th>\n",
       "      <th>Messstellen Name</th>\n",
       "      <th>Jahr</th>\n",
       "      <th>Bundesland</th>\n",
       "      <th>Flussgebiet</th>\n",
       "      <th>Seehöhe</th>\n",
       "    </tr>\n",
       "    <tr>\n",
       "      <th>Mst. ID</th>\n",
       "      <th></th>\n",
       "      <th></th>\n",
       "      <th></th>\n",
       "      <th></th>\n",
       "      <th></th>\n",
       "    </tr>\n",
       "  </thead>\n",
       "  <tbody>\n",
       "    <tr>\n",
       "      <th>107839</th>\n",
       "      <td>Absdorf</td>\n",
       "      <td>2017</td>\n",
       "      <td>Niederösterreich</td>\n",
       "      <td>Donaugebiet zwischen Enns und March</td>\n",
       "      <td>182</td>\n",
       "    </tr>\n",
       "    <tr>\n",
       "      <th>115063</th>\n",
       "      <td>Abtenau</td>\n",
       "      <td>2017</td>\n",
       "      <td>Salzburg</td>\n",
       "      <td>Salzachgebiet</td>\n",
       "      <td>711</td>\n",
       "    </tr>\n",
       "    <tr>\n",
       "      <th>104489</th>\n",
       "      <td>Ach-Burghausen</td>\n",
       "      <td>2017</td>\n",
       "      <td>Oberösterreich</td>\n",
       "      <td>Salzachgebiet</td>\n",
       "      <td>473</td>\n",
       "    </tr>\n",
       "    <tr>\n",
       "      <th>101345</th>\n",
       "      <td>Achenkirch</td>\n",
       "      <td>2017</td>\n",
       "      <td>Tirol</td>\n",
       "      <td>Donaugebiet oberhalb des Inn</td>\n",
       "      <td>906</td>\n",
       "    </tr>\n",
       "    <tr>\n",
       "      <th>115154</th>\n",
       "      <td>Ackernalm</td>\n",
       "      <td>2017</td>\n",
       "      <td>Tirol</td>\n",
       "      <td>Inngebiet oberhalb der Salzach</td>\n",
       "      <td>1324</td>\n",
       "    </tr>\n",
       "  </tbody>\n",
       "</table>\n",
       "</div>"
      ]
     },
     "execution_count": 2,
     "metadata": {},
     "output_type": "execute_result"
    }
   ],
   "execution_count": 2
  },
  {
   "cell_type": "code",
   "source": [
    "id_number = 106559\n",
    "# f = _get_files(id_number, field=FIELDS.NIEDERSCHLAG, data_kind=DATA_KIND.MEASUREMENT)\n",
    "get_basic_station_meta(id_number, field=field)"
   ],
   "metadata": {
    "collapsed": false,
    "pycharm": {
     "name": "#%%\n"
    },
    "ExecuteTime": {
     "end_time": "2025-03-25T13:23:02.852887Z",
     "start_time": "2025-03-25T13:23:02.850372Z"
    }
   },
   "outputs": [
    {
     "data": {
      "text/plain": [
       "{'Messstellen Name': 'Steyr',\n",
       " 'Jahr': 2017,\n",
       " 'Bundesland': 'Oberösterreich',\n",
       " 'Flussgebiet': 'Ennsgebiet',\n",
       " 'Seehöhe': 336}"
      ]
     },
     "execution_count": 3,
     "metadata": {},
     "output_type": "execute_result"
    }
   ],
   "execution_count": 3
  },
  {
   "cell_type": "code",
   "source": "get_files_available(id_number, field=field, data_kind=DATA_KIND.MEASUREMENT)",
   "metadata": {
    "collapsed": false,
    "pycharm": {
     "name": "#%%\n"
    },
    "ExecuteTime": {
     "end_time": "2025-03-25T13:23:03.506064Z",
     "start_time": "2025-03-25T13:23:02.876644Z"
    }
   },
   "outputs": [
    {
     "data": {
      "text/plain": [
       "{1: 'Stammdaten-106559.txt',\n",
       " 2: 'N-Tagessummen-106559.csv',\n",
       " 3: 'N-Minutensummen-106559.zip',\n",
       " 4: 'LT-Tageswerte-106559.csv'}"
      ]
     },
     "execution_count": 4,
     "metadata": {},
     "output_type": "execute_result"
    }
   ],
   "execution_count": 4
  },
  {
   "cell_type": "code",
   "source": [
    "meta = get_station_reference_data(id_number, field=field, data_kind=DATA_KIND.MEASUREMENT)\n",
    "print(json.dumps(meta, indent=2, ensure_ascii=False))"
   ],
   "metadata": {
    "collapsed": false,
    "pycharm": {
     "name": "#%%\n"
    },
    "ExecuteTime": {
     "end_time": "2025-03-25T13:23:03.632171Z",
     "start_time": "2025-03-25T13:23:03.511774Z"
    }
   },
   "outputs": [
    {
     "name": "stdout",
     "output_type": "stream",
     "text": [
      "{\n",
      "  \"_raw\": \"Messstelle:                Steyr\\nHZB-Nummer:                106559\\nErrichtet:                 1864\\nSachgebiet:                NLV\\nDienststelle:              HD-Oberoesterreich\\nMessstellenbetreiber:      Hydrographischer Dienst\\n\\nHoehe:\\n gueltig seit:              Hoehe [m ue.AE.]:\\n  01.01.1864               336\\n\\nGeographische Koordinaten (Referenzellipsoid: Bessel 1841):\\n gueltig seit:              Laenge (Grad,Min,Sek):    Breite  (Grad,Min,Sek):\\n  01.01.1864               14 25 31                 48 03 02\\n\\nMessgroessen,-art:           seit:     bis:\\n  Niederschlag-Ombrometer  1864\\n  Niederschlag-Ombrograph  2002\\n  Schneehoehe               1897\\n  Neuschneehoehe            1897\\n  Temperatur               1896\\n\",\n",
      "  \"Messstelle\": \"Steyr\",\n",
      "  \"HZB-Nummer\": \"106559\",\n",
      "  \"Errichtet\": \"1864\",\n",
      "  \"Sachgebiet\": \"NLV\",\n",
      "  \"Dienststelle\": \"HD-Oberoesterreich\",\n",
      "  \"Messstellenbetreiber\": \"Hydrographischer Dienst\",\n",
      "  \"Hoehe\": [\n",
      "    {\n",
      "      \"gueltig seit\": \"01.01.1864\",\n",
      "      \"Hoehe [m ue.AE.]\": \"336\"\n",
      "    }\n",
      "  ],\n",
      "  \"Geographische Koordinaten (Referenzellipsoid: Bessel 1841)\": [\n",
      "    {\n",
      "      \"gueltig seit\": \"01.01.1864\",\n",
      "      \"Laenge (Grad,Min,Sek)\": \"14 25 31\",\n",
      "      \"Breite  (Grad,Min,Sek)\": \"48 03 02\"\n",
      "    }\n",
      "  ],\n",
      "  \"Messgroessen,-art\": [\n",
      "    {\n",
      "      \"Messgroessen,-art\": \"Niederschlag-Ombrometer\",\n",
      "      \"seit\": \"1864\"\n",
      "    },\n",
      "    {\n",
      "      \"Messgroessen,-art\": \"Niederschlag-Ombrograph\",\n",
      "      \"seit\": \"2002\"\n",
      "    },\n",
      "    {\n",
      "      \"Messgroessen,-art\": \"Schneehoehe\",\n",
      "      \"seit\": \"1897\"\n",
      "    },\n",
      "    {\n",
      "      \"Messgroessen,-art\": \"Neuschneehoehe\",\n",
      "      \"seit\": \"1897\"\n",
      "    },\n",
      "    {\n",
      "      \"Messgroessen,-art\": \"Temperatur\",\n",
      "      \"seit\": \"1896\"\n",
      "    }\n",
      "  ]\n",
      "}\n"
     ]
    }
   ],
   "execution_count": 5
  },
  {
   "cell_type": "code",
   "source": [
    "series = get_ehyd_data(id_number, field=field, file_number=2, data_kind=DATA_KIND.MEASUREMENT)\n",
    "series"
   ],
   "metadata": {
    "collapsed": false,
    "pycharm": {
     "name": "#%%\n"
    },
    "ExecuteTime": {
     "end_time": "2025-03-25T13:23:03.879767Z",
     "start_time": "2025-03-25T13:23:03.656136Z"
    }
   },
   "outputs": [
    {
     "data": {
      "text/plain": [
       "datetime\n",
       "1971-01-01    NaN\n",
       "1971-01-02    NaN\n",
       "1971-01-03    NaN\n",
       "1971-01-04    NaN\n",
       "1971-01-05    NaN\n",
       "             ... \n",
       "2022-12-28    0.0\n",
       "2022-12-29    0.3\n",
       "2022-12-30    0.4\n",
       "2022-12-31    0.1\n",
       "2023-01-01    NaN\n",
       "Freq: D, Name: N-Tagessummen-106559, Length: 18994, dtype: float64"
      ]
     },
     "execution_count": 6,
     "metadata": {},
     "output_type": "execute_result"
    }
   ],
   "execution_count": 6
  },
  {
   "metadata": {
    "ExecuteTime": {
     "end_time": "2025-03-25T13:23:04.858004Z",
     "start_time": "2025-03-25T13:23:03.939952Z"
    }
   },
   "cell_type": "code",
   "source": [
    "series = get_ehyd_data(id_number, field=field, file_number=3, data_kind=DATA_KIND.MEASUREMENT)\n",
    "series"
   ],
   "outputs": [
    {
     "data": {
      "text/plain": [
       "datetime\n",
       "2002-01-01 00:00:00    0.0\n",
       "2002-01-01 00:01:00    0.0\n",
       "2002-01-01 00:02:00    0.0\n",
       "2002-01-01 00:03:00    0.0\n",
       "2002-01-01 00:04:00    0.0\n",
       "                      ... \n",
       "2022-12-31 23:56:00    0.0\n",
       "2022-12-31 23:57:00    0.0\n",
       "2022-12-31 23:58:00    0.0\n",
       "2022-12-31 23:59:00    0.0\n",
       "2023-01-01 00:00:00    NaN\n",
       "Freq: min, Name: N-Minutensummen-106559, Length: 11044801, dtype: float64"
      ]
     },
     "execution_count": 7,
     "metadata": {},
     "output_type": "execute_result"
    }
   ],
   "execution_count": 7
  },
  {
   "cell_type": "code",
   "source": "print(json.dumps(series.attrs, indent=2, ensure_ascii=False))",
   "metadata": {
    "collapsed": false,
    "pycharm": {
     "name": "#%%\n"
    },
    "ExecuteTime": {
     "end_time": "2025-03-25T13:23:04.879995Z",
     "start_time": "2025-03-25T13:23:04.877982Z"
    }
   },
   "outputs": [
    {
     "name": "stdout",
     "output_type": "stream",
     "text": [
      "{\n",
      "  \"_raw\": \"Messstelle:                Steyr\\nHZB-Nummer:                106559\\nHD-Nummer:                 HD4000152\\nDBMS-Nummer:               4000152\\nSachgebiet:                NLV\\nDienststelle:              HD-Oberoesterreich\\nMessstellenbetreiber:      Hydrographischer Dienst\\nHoehe:\\n gueltig seit:              Hoehe [m ue.AE.]:\\n  01.01.1864               336\\nGeographische Koordinaten (Referenzellipsoid: Bessel 1841):\\n gueltig seit:              Laenge (Grad,Min,Sek):    Breite  (Grad,Min,Sek):\\n  01.01.1864               14 25 31                 48 03 02\\nZugeordnete Messcodes:\\n gueltig seit: gueltig bis:  Messcode:                           Entstehungsart:\\n  01.01.2002               Nh/elekt.Waage, 500 cm², beh.       Datensammler -> DFÜ\\nuersprungszeitreihe:        Niederschlag,K,,,0,O,Z,0,,,\\nTransformation:            Summe\\nSummenintervall:           1 Minute\\nExportzeitreihe:           AEbgeleitete Intervallzeitreihe\\n                           Niederschlag,I,Sum,E,12,M,Z,0,,,\\nExportqualitaet:            MAEXQueAEL (2)\\nExportzeitraum:            Beginn der Datenaufzeichnung bis 01.01.2023 00:00\\nHinweis:                   Der Intervallwert gilt bis zum naechsten Zeitpunkt mit einem Wert oder Luecke\\nHinweis:                   AECHTueNG: AEufeinanderfolgende gleiche Werte von 0 und Luecke sind jeweils zu einem laengeren Intervall zusammengefasst\\nHinweis:                   Werte aus (teilweise) ungeprueften Rohdaten\\nWerteformat:               3 Nachkommastellen\\nEinheit:                   mm\\n\",\n",
      "  \"Messstelle\": \"Steyr\",\n",
      "  \"HZB-Nummer\": \"106559\",\n",
      "  \"HD-Nummer\": \"HD4000152\",\n",
      "  \"DBMS-Nummer\": \"4000152\",\n",
      "  \"Sachgebiet\": \"NLV\",\n",
      "  \"Dienststelle\": \"HD-Oberoesterreich\",\n",
      "  \"Messstellenbetreiber\": \"Hydrographischer Dienst\",\n",
      "  \"Hoehe\": [\n",
      "    {\n",
      "      \"gueltig seit\": \"01.01.1864\",\n",
      "      \"Hoehe [m ue.AE.]\": \"336\"\n",
      "    }\n",
      "  ],\n",
      "  \"Geographische Koordinaten (Referenzellipsoid: Bessel 1841)\": [\n",
      "    {\n",
      "      \"gueltig seit\": \"01.01.1864\",\n",
      "      \"Laenge (Grad,Min,Sek)\": \"14 25 31\",\n",
      "      \"Breite  (Grad,Min,Sek)\": \"48 03 02\"\n",
      "    }\n",
      "  ],\n",
      "  \"uersprungszeitreihe\": \"Niederschlag,K,,,0,O,Z,0,,,\",\n",
      "  \"Zugeordnete Messcodes\": [\n",
      "    {\n",
      "      \"gueltig seit\": \"01.01.2002\",\n",
      "      \"gueltig bis\": \"Nh/elekt.Waage, 500 cm², beh.\",\n",
      "      \"Messcode\": \"Datensammler -> DFÜ\"\n",
      "    }\n",
      "  ],\n",
      "  \"Transformation\": \"Summe\",\n",
      "  \"Summenintervall\": \"1 Minute\",\n",
      "  \"Exportzeitreihe\": [\n",
      "    \"AEbgeleitete Intervallzeitreihe\",\n",
      "    \"Niederschlag,I,Sum,E,12,M,Z,0,,,\"\n",
      "  ],\n",
      "  \"Exportqualitaet\": \"MAEXQueAEL (2)\",\n",
      "  \"Exportzeitraum\": \"Beginn der Datenaufzeichnung bis 01.01.2023 00:00\",\n",
      "  \"Hinweis\": [\n",
      "    \"Der Intervallwert gilt bis zum naechsten Zeitpunkt mit einem Wert oder Luecke\",\n",
      "    \"AECHTueNG: AEufeinanderfolgende gleiche Werte von 0 und Luecke sind jeweils zu einem laengeren Intervall zusammengefasst\",\n",
      "    \"Werte aus (teilweise) ungeprueften Rohdaten\"\n",
      "  ],\n",
      "  \"Werteformat\": \"3 Nachkommastellen\",\n",
      "  \"Einheit\": \"mm\"\n",
      "}\n"
     ]
    }
   ],
   "execution_count": 8
  },
  {
   "cell_type": "code",
   "source": [
    "series = get_ehyd_data(id_number, field=field, file_number=4, data_kind=DATA_KIND.MEASUREMENT)\n",
    "series"
   ],
   "metadata": {
    "collapsed": false,
    "pycharm": {
     "name": "#%%\n"
    },
    "ExecuteTime": {
     "end_time": "2025-03-25T13:23:05.107438Z",
     "start_time": "2025-03-25T13:23:04.930034Z"
    }
   },
   "outputs": [
    {
     "data": {
      "text/plain": [
       "datetime\n",
       "1999-01-01   -3.0\n",
       "1999-01-02   -4.1\n",
       "1999-01-03   -1.2\n",
       "1999-01-04    5.0\n",
       "1999-01-05    4.4\n",
       "             ... \n",
       "2022-12-28    0.7\n",
       "2022-12-29    2.0\n",
       "2022-12-30    5.3\n",
       "2022-12-31    6.8\n",
       "2023-01-01    NaN\n",
       "Freq: D, Name: LT-Tageswerte-106559, Length: 8767, dtype: float64"
      ]
     },
     "execution_count": 9,
     "metadata": {},
     "output_type": "execute_result"
    }
   ],
   "execution_count": 9
  },
  {
   "cell_type": "code",
   "source": [
    "series = get_ehyd_data(id_number, field=field, file_number=5, data_kind=DATA_KIND.MEASUREMENT)\n",
    "series"
   ],
   "metadata": {
    "collapsed": false,
    "pycharm": {
     "name": "#%%\n"
    },
    "ExecuteTime": {
     "end_time": "2025-03-25T13:23:05.361643Z",
     "start_time": "2025-03-25T13:23:05.123800Z"
    }
   },
   "outputs": [
    {
     "ename": "NotImplementedError",
     "evalue": "Requested file not found. You tried file_number=5. Following files are available: {1: 'Stammdaten-106559.txt', 2: 'N-Tagessummen-106559.csv', 3: 'N-Minutensummen-106559.zip', 4: 'LT-Tageswerte-106559.csv'}",
     "output_type": "error",
     "traceback": [
      "\u001B[31m---------------------------------------------------------------------------\u001B[39m",
      "\u001B[31mNotImplementedError\u001B[39m                       Traceback (most recent call last)",
      "\u001B[36mCell\u001B[39m\u001B[36m \u001B[39m\u001B[32mIn[10]\u001B[39m\u001B[32m, line 1\u001B[39m\n\u001B[32m----> \u001B[39m\u001B[32m1\u001B[39m series = \u001B[43mget_ehyd_data\u001B[49m\u001B[43m(\u001B[49m\u001B[43mid_number\u001B[49m\u001B[43m,\u001B[49m\u001B[43m \u001B[49m\u001B[43mfield\u001B[49m\u001B[43m=\u001B[49m\u001B[43mfield\u001B[49m\u001B[43m,\u001B[49m\u001B[43m \u001B[49m\u001B[43mfile_number\u001B[49m\u001B[43m=\u001B[49m\u001B[32;43m5\u001B[39;49m\u001B[43m,\u001B[49m\u001B[43m \u001B[49m\u001B[43mdata_kind\u001B[49m\u001B[43m=\u001B[49m\u001B[43mDATA_KIND\u001B[49m\u001B[43m.\u001B[49m\u001B[43mMEASUREMENT\u001B[49m\u001B[43m)\u001B[49m\n\u001B[32m      2\u001B[39m series\n",
      "\u001B[36mFile \u001B[39m\u001B[32m~/PycharmProjects/ehyd_tools/ehyd_tools/in_out.py:536\u001B[39m, in \u001B[36mget_ehyd_data\u001B[39m\u001B[34m(identifier, field, file_number, data_kind)\u001B[39m\n\u001B[32m    533\u001B[39m \u001B[38;5;28;01mif\u001B[39;00m \u001B[38;5;28mint\u001B[39m(identifier) \u001B[38;5;129;01mnot\u001B[39;00m \u001B[38;5;129;01min\u001B[39;00m get_ehyd_stations(field):\n\u001B[32m    534\u001B[39m     \u001B[38;5;28;01mraise\u001B[39;00m \u001B[38;5;167;01mValueError\u001B[39;00m(\u001B[33mf\u001B[39m\u001B[33m'\u001B[39m\u001B[33mIdentifier \u001B[39m\u001B[33m\"\u001B[39m\u001B[38;5;132;01m{\u001B[39;00midentifier\u001B[38;5;132;01m}\u001B[39;00m\u001B[33m\"\u001B[39m\u001B[33m not in ehyd!\u001B[39m\u001B[33m'\u001B[39m)\n\u001B[32m--> \u001B[39m\u001B[32m536\u001B[39m \u001B[38;5;28;01mreturn\u001B[39;00m read_ehyd_file(*\u001B[43m_get_file\u001B[49m\u001B[43m(\u001B[49m\u001B[43midentifier\u001B[49m\u001B[43m=\u001B[49m\u001B[43midentifier\u001B[49m\u001B[43m,\u001B[49m\u001B[43m \u001B[49m\u001B[43mfield\u001B[49m\u001B[43m=\u001B[49m\u001B[43mfield\u001B[49m\u001B[43m,\u001B[49m\u001B[43m \u001B[49m\u001B[43mfile_number\u001B[49m\u001B[43m=\u001B[49m\u001B[43mfile_number\u001B[49m\u001B[43m,\u001B[49m\u001B[43m \u001B[49m\u001B[43mdata_kind\u001B[49m\u001B[43m=\u001B[49m\u001B[43mdata_kind\u001B[49m\u001B[43m)\u001B[49m)\n",
      "\u001B[36mFile \u001B[39m\u001B[32m~/PycharmProjects/ehyd_tools/ehyd_tools/in_out.py:324\u001B[39m, in \u001B[36m_get_file\u001B[39m\u001B[34m(identifier, field, file_number, data_kind)\u001B[39m\n\u001B[32m    322\u001B[39m         \u001B[38;5;28;01mraise\u001B[39;00m \u001B[38;5;167;01mNotImplementedError\u001B[39;00m(\u001B[33m'\u001B[39m\u001B[33mThis kind of request is not implemented (yet?). Sorry!\u001B[39m\u001B[33m'\u001B[39m)\n\u001B[32m    323\u001B[39m     \u001B[38;5;28;01mreturn\u001B[39;00m csv_file, filename\n\u001B[32m--> \u001B[39m\u001B[32m324\u001B[39m \u001B[38;5;28;01mraise\u001B[39;00m \u001B[38;5;167;01mNotImplementedError\u001B[39;00m(\u001B[33mf\u001B[39m\u001B[33m'\u001B[39m\u001B[33mRequested file not found. You tried \u001B[39m\u001B[38;5;132;01m{\u001B[39;00mfile_number\u001B[38;5;132;01m=}\u001B[39;00m\u001B[33m. Following files are available: \u001B[39m\u001B[38;5;132;01m{\u001B[39;00mget_files_available(identifier,\u001B[38;5;250m \u001B[39mfield=field,\u001B[38;5;250m \u001B[39mdata_kind=data_kind)\u001B[38;5;132;01m}\u001B[39;00m\u001B[33m'\u001B[39m)\n",
      "\u001B[31mNotImplementedError\u001B[39m: Requested file not found. You tried file_number=5. Following files are available: {1: 'Stammdaten-106559.txt', 2: 'N-Tagessummen-106559.csv', 3: 'N-Minutensummen-106559.zip', 4: 'LT-Tageswerte-106559.csv'}"
     ]
    }
   ],
   "execution_count": 10
  },
  {
   "cell_type": "code",
   "source": [
    "def preview(di):\n",
    "    for fn, d in di.items():\n",
    "        print('_'*20 + '\\n', fn)\n",
    "        if isinstance(d, pd.Series):\n",
    "            print(d.head())\n",
    "        elif isinstance(d, dict):\n",
    "            print(f'Dict(keys={d.keys()})')\n",
    "        else:\n",
    "            print(d[:100])"
   ],
   "metadata": {
    "collapsed": false,
    "pycharm": {
     "name": "#%%\n"
    },
    "ExecuteTime": {
     "end_time": "2025-03-25T13:23:14.206602Z",
     "start_time": "2025-03-25T13:23:14.203525Z"
    }
   },
   "outputs": [],
   "execution_count": 11
  },
  {
   "cell_type": "code",
   "source": [
    "preview(get_ehyd_files(identifier=205641, field=FIELDS.OBERFLAECHENWASSER, data_kind=DATA_KIND.MEASUREMENT))"
   ],
   "metadata": {
    "collapsed": false,
    "pycharm": {
     "name": "#%%\n"
    },
    "ExecuteTime": {
     "end_time": "2025-03-25T13:23:17.513511Z",
     "start_time": "2025-03-25T13:23:15.001777Z"
    }
   },
   "outputs": [
    {
     "name": "stdout",
     "output_type": "stream",
     "text": [
      "____________________\n",
      " Stammdaten-205641.csv\n",
      "Dict(keys=dict_keys(['_raw', 'Messstelle', 'HZB-Nummer', 'HD-Nummer', 'DBMS-Nummer', 'Gewaesser', 'Sachgebiet', 'Dienststelle', 'Messstellenbetreiber', 'orogr.Einzugsgebiet [km²]', 'Pegelnullpunkt', 'Bundesmeldenetz(BMN)-Koordinaten', 'Messgroessen/Messart', 'AEnmerkungen']))\n",
      "____________________\n",
      " W-Tagesmittel-205641.csv\n",
      "datetime\n",
      "1976-01-01     NaN\n",
      "1976-01-02    87.0\n",
      "1976-01-03    81.0\n",
      "1976-01-04    77.0\n",
      "1976-01-05    67.0\n",
      "Freq: D, Name: W-Tagesmittel-205641, dtype: float64\n",
      "____________________\n",
      " W-Monatsminima-205641.csv\n",
      "datetime\n",
      "1976-01-01 22:30:00    55\n",
      "1976-02-08 16:00:00    56\n",
      "1976-03-13 13:00:00    51\n",
      "1976-04-19 23:00:00    53\n",
      "1976-05-20 04:00:00    55\n",
      "Name: W-Monatsminima-205641, dtype: int64\n",
      "____________________\n",
      " W-Monatsmaxima-205641.csv\n",
      "datetime\n",
      "1976-01-06 05:30:00    138\n",
      "1976-02-01 00:00:00     65\n",
      "1976-03-02 03:00:00     64\n",
      "1976-04-27 08:00:00    115\n",
      "1976-05-31 23:59:55    120\n",
      "Name: W-Monatsmaxima-205641, dtype: int64\n",
      "____________________\n",
      " Q-Tagesmittel-205641.csv\n",
      "datetime\n",
      "1954-01-01    1.00\n",
      "1954-01-02    0.80\n",
      "1954-01-03    0.80\n",
      "1954-01-04    0.84\n",
      "1954-01-05    0.80\n",
      "Freq: D, Name: Q-Tagesmittel-205641, dtype: float64\n",
      "____________________\n",
      " Q-Monatsminima-205641.csv\n",
      "datetime\n",
      "1954-01-07 12:00:00    0.80\n",
      "1954-02-10 12:00:00    0.69\n",
      "1954-03-04 12:00:00    0.84\n",
      "1954-04-30 12:00:00    1.13\n",
      "1954-05-05 12:00:00    0.96\n",
      "Name: Q-Monatsminima-205641, dtype: float64\n",
      "____________________\n",
      " Q-Monatsmaxima-205641.csv\n",
      "datetime\n",
      "1954-01-21 12:00:00    63.00\n",
      "1954-02-28 12:00:00     1.00\n",
      "1954-03-20 12:00:00     1.78\n",
      "1954-04-04 12:00:00    38.50\n",
      "1954-05-06 12:00:00    63.00\n",
      "Name: Q-Monatsmaxima-205641, dtype: float64\n",
      "____________________\n",
      " WT-Monatsmittel-205641.csv\n",
      "datetime\n",
      "1976-01-01     3.3\n",
      "1976-02-01     2.1\n",
      "1976-03-01     3.0\n",
      "1976-04-01     8.0\n",
      "1976-05-01    12.1\n",
      "Freq: MS, Name: WT-Monatsmittel-205641, dtype: float64\n"
     ]
    }
   ],
   "execution_count": 12
  },
  {
   "cell_type": "code",
   "source": [
    "preview(get_ehyd_files(identifier=356980, field=FIELDS.GRUNDWASSER, data_kind=DATA_KIND.MEASUREMENT))"
   ],
   "metadata": {
    "collapsed": false,
    "pycharm": {
     "name": "#%%\n"
    },
    "ExecuteTime": {
     "end_time": "2025-03-25T13:23:19.963502Z",
     "start_time": "2025-03-25T13:23:18.445065Z"
    }
   },
   "outputs": [
    {
     "name": "stdout",
     "output_type": "stream",
     "text": [
      "____________________\n",
      " Stammdaten-356980.txt\n",
      "Dict(keys=dict_keys(['_raw', 'Messstelle', 'HZB-Nummer', 'Errichtet', 'PorenGW-Gebiet', 'Grundwasserkoerper', 'Sachgebiet', 'AErbeitsgebiet', 'Dienststelle', 'Messstellenbetreiber', 'Hoehenangaben [m ue.AE.]', ' Gelaendehoehe', ' Messpunkthoehe', ' Sohllage', ' T-Messtiefe u.GOK', 'Geographische Koordinaten (Referenzellipsoid: Bessel 1841)']))\n",
      "____________________\n",
      " Grundwasserstand-Jahresmaxima-356980.csv\n",
      "datetime\n",
      "2013-06-02 16:00:00    429.03\n",
      "2014-05-16 14:00:00    428.97\n",
      "2015-01-10 20:00:00    427.61\n",
      "2016-07-14 10:00:00    428.16\n",
      "2017-08-07 10:00:00    427.36\n",
      "Name: Grundwasserstand-Jahresmaxima-356980, dtype: float64\n",
      "____________________\n",
      " Grundwasserstand-Jahresminima-356980.csv\n",
      "datetime\n",
      "2013-08-18 18:00:00    425.19\n",
      "2014-03-12 06:00:00    425.11\n",
      "2015-09-20 04:00:00    425.13\n",
      "2016-01-07 22:00:00    425.09\n",
      "2017-01-19 16:00:00    425.16\n",
      "Name: Grundwasserstand-Jahresminima-356980, dtype: float64\n",
      "____________________\n",
      " Grundwasserstand-Monatsmittel-356980.csv\n",
      "datetime\n",
      "2012-11-01    425.66\n",
      "2012-12-01    425.50\n",
      "2013-01-01    425.90\n",
      "2013-02-01    425.55\n",
      "2013-03-01    425.64\n",
      "Freq: MS, Name: Grundwasserstand-Monatsmittel-356980, dtype: float64\n",
      "____________________\n",
      " Grundwassertemperatur-Monatsmittel-356980.csv\n",
      "datetime\n",
      "2012-11-01    8.8\n",
      "2012-12-01    7.7\n",
      "2013-01-01    7.6\n",
      "2013-02-01    7.3\n",
      "2013-03-01    7.3\n",
      "Freq: MS, Name: Grundwassertemperatur-Monatsmittel-356980, dtype: float64\n"
     ]
    }
   ],
   "execution_count": 13
  },
  {
   "cell_type": "code",
   "source": "preview(get_ehyd_files(identifier=395855, field=FIELDS.QUELLEN, data_kind=DATA_KIND.MEASUREMENT))",
   "metadata": {
    "collapsed": false,
    "pycharm": {
     "name": "#%%\n"
    },
    "ExecuteTime": {
     "end_time": "2025-03-25T13:23:22.213157Z",
     "start_time": "2025-03-25T13:23:20.834068Z"
    }
   },
   "outputs": [
    {
     "name": "stdout",
     "output_type": "stream",
     "text": [
      "____________________\n",
      " Stammdaten-395855.txt\n",
      "Dict(keys=dict_keys(['_raw', 'Messstelle', 'HZB-Nummer', 'Errichtet', 'Gebirgsgruppe', 'Grundwasserkoerper', 'Sachgebiet', 'AErbeitsgebiet', 'Dienststelle', 'Messstellenbetreiber', 'Hoehenangaben [m ue.AE.]', ' Gelaendehoehe-Hauptquelle', ' Pegelnullpunkt', 'Geographische Koordinaten (Referenzellipsoid: Bessel 1841)']))\n",
      "____________________\n",
      " Quellleitfähigkeit-Tagesmittel-395855.csv\n",
      "datetime\n",
      "1995-01-01    359.2\n",
      "1995-01-02    351.6\n",
      "1995-01-03    347.5\n",
      "1995-01-04    344.1\n",
      "1995-01-05    345.6\n",
      "Freq: D, Name: Quellleitfähigkeit-Tagesmittel-395855, dtype: float64\n",
      "____________________\n",
      " Quellschüttung-Tagesmittel-395855.csv\n",
      "                1    2\n",
      "datetime              \n",
      "1995-01-01  176.9  NaN\n",
      "1995-01-02  158.9  NaN\n",
      "1995-01-03  149.4  NaN\n",
      "1995-01-04  143.0  NaN\n",
      "1995-01-05  139.5  NaN\n",
      "...           ...  ...\n",
      "1995-04-06  227.7  NaN\n",
      "1995-04-07  222.0  NaN\n",
      "1995-04-08  218.6  NaN\n",
      "1995-04-09  214.8  NaN\n",
      "1995-04-10  213.7  NaN\n",
      "\n",
      "[100 rows x 2 columns]\n",
      "____________________\n",
      " Quellwassertemperatur-Tagesmittel-395855.csv\n",
      "datetime\n",
      "1995-01-01    8.4\n",
      "1995-01-02    8.3\n",
      "1995-01-03    8.3\n",
      "1995-01-04    8.2\n",
      "1995-01-05    8.2\n",
      "Freq: D, Name: Quellwassertemperatur-Tagesmittel-395855, dtype: float64\n"
     ]
    }
   ],
   "execution_count": 14
  }
 ],
 "metadata": {
  "kernelspec": {
   "display_name": "Python 3",
   "language": "python",
   "name": "python3"
  },
  "language_info": {
   "codemirror_mode": {
    "name": "ipython",
    "version": 3
   },
   "file_extension": ".py",
   "mimetype": "text/x-python",
   "name": "python",
   "nbconvert_exporter": "python",
   "pygments_lexer": "ipython3",
   "version": "3.8.1"
  }
 },
 "nbformat": 4,
 "nbformat_minor": 1
}
