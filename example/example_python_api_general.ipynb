{
 "cells": [
  {
   "cell_type": "code",
   "metadata": {
    "ExecuteTime": {
     "end_time": "2024-06-03T08:36:16.639437Z",
     "start_time": "2024-06-03T08:36:16.125688Z"
    }
   },
   "source": [
    "import pandas as pd\n",
    "import json\n",
    "from ehyd_tools.in_out import (get_ehyd_data, FIELDS, DATA_KIND, get_basic_station_meta, available_files,\n",
    "                               get_station_reference_data, get_ehyd_station_frame, get_ehyd_files)"
   ],
   "outputs": [],
   "execution_count": 1
  },
  {
   "cell_type": "code",
   "metadata": {
    "ExecuteTime": {
     "end_time": "2024-06-03T08:36:16.648484Z",
     "start_time": "2024-06-03T08:36:16.640568Z"
    }
   },
   "source": [
    "field = FIELDS.NIEDERSCHLAG\n",
    "get_ehyd_station_frame(field).head()"
   ],
   "outputs": [
    {
     "data": {
      "text/plain": [
       "        Messstellen Name  Jahr        Bundesland  \\\n",
       "Mst. ID                                            \n",
       "107839           Absdorf  2017  Niederösterreich   \n",
       "115063           Abtenau  2017          Salzburg   \n",
       "104489    Ach-Burghausen  2017    Oberösterreich   \n",
       "101345        Achenkirch  2017             Tirol   \n",
       "115154         Ackernalm  2017             Tirol   \n",
       "\n",
       "                                 Flussgebiet  Seehöhe  \n",
       "Mst. ID                                                \n",
       "107839   Donaugebiet zwischen Enns und March      182  \n",
       "115063                         Salzachgebiet      711  \n",
       "104489                         Salzachgebiet      473  \n",
       "101345          Donaugebiet oberhalb des Inn      906  \n",
       "115154        Inngebiet oberhalb der Salzach     1324  "
      ],
      "text/html": [
       "<div>\n",
       "<style scoped>\n",
       "    .dataframe tbody tr th:only-of-type {\n",
       "        vertical-align: middle;\n",
       "    }\n",
       "\n",
       "    .dataframe tbody tr th {\n",
       "        vertical-align: top;\n",
       "    }\n",
       "\n",
       "    .dataframe thead th {\n",
       "        text-align: right;\n",
       "    }\n",
       "</style>\n",
       "<table border=\"1\" class=\"dataframe\">\n",
       "  <thead>\n",
       "    <tr style=\"text-align: right;\">\n",
       "      <th></th>\n",
       "      <th>Messstellen Name</th>\n",
       "      <th>Jahr</th>\n",
       "      <th>Bundesland</th>\n",
       "      <th>Flussgebiet</th>\n",
       "      <th>Seehöhe</th>\n",
       "    </tr>\n",
       "    <tr>\n",
       "      <th>Mst. ID</th>\n",
       "      <th></th>\n",
       "      <th></th>\n",
       "      <th></th>\n",
       "      <th></th>\n",
       "      <th></th>\n",
       "    </tr>\n",
       "  </thead>\n",
       "  <tbody>\n",
       "    <tr>\n",
       "      <th>107839</th>\n",
       "      <td>Absdorf</td>\n",
       "      <td>2017</td>\n",
       "      <td>Niederösterreich</td>\n",
       "      <td>Donaugebiet zwischen Enns und March</td>\n",
       "      <td>182</td>\n",
       "    </tr>\n",
       "    <tr>\n",
       "      <th>115063</th>\n",
       "      <td>Abtenau</td>\n",
       "      <td>2017</td>\n",
       "      <td>Salzburg</td>\n",
       "      <td>Salzachgebiet</td>\n",
       "      <td>711</td>\n",
       "    </tr>\n",
       "    <tr>\n",
       "      <th>104489</th>\n",
       "      <td>Ach-Burghausen</td>\n",
       "      <td>2017</td>\n",
       "      <td>Oberösterreich</td>\n",
       "      <td>Salzachgebiet</td>\n",
       "      <td>473</td>\n",
       "    </tr>\n",
       "    <tr>\n",
       "      <th>101345</th>\n",
       "      <td>Achenkirch</td>\n",
       "      <td>2017</td>\n",
       "      <td>Tirol</td>\n",
       "      <td>Donaugebiet oberhalb des Inn</td>\n",
       "      <td>906</td>\n",
       "    </tr>\n",
       "    <tr>\n",
       "      <th>115154</th>\n",
       "      <td>Ackernalm</td>\n",
       "      <td>2017</td>\n",
       "      <td>Tirol</td>\n",
       "      <td>Inngebiet oberhalb der Salzach</td>\n",
       "      <td>1324</td>\n",
       "    </tr>\n",
       "  </tbody>\n",
       "</table>\n",
       "</div>"
      ]
     },
     "execution_count": 2,
     "metadata": {},
     "output_type": "execute_result"
    }
   ],
   "execution_count": 2
  },
  {
   "cell_type": "code",
   "source": [
    "id_number = 106559\n",
    "# f = _get_files(id_number, field=FIELDS.NIEDERSCHLAG, data_kind=DATA_KIND.MEASUREMENT)\n",
    "get_basic_station_meta(id_number, field=field)"
   ],
   "metadata": {
    "collapsed": false,
    "pycharm": {
     "name": "#%%\n"
    },
    "ExecuteTime": {
     "end_time": "2024-06-03T08:36:16.652109Z",
     "start_time": "2024-06-03T08:36:16.649509Z"
    }
   },
   "outputs": [
    {
     "data": {
      "text/plain": [
       "{'Messstellen Name': 'Steyr',\n",
       " 'Jahr': 2017,\n",
       " 'Bundesland': 'Oberösterreich',\n",
       " 'Flussgebiet': 'Ennsgebiet',\n",
       " 'Seehöhe': 336}"
      ]
     },
     "execution_count": 3,
     "metadata": {},
     "output_type": "execute_result"
    }
   ],
   "execution_count": 3
  },
  {
   "cell_type": "code",
   "source": [
    "available_files(id_number, field=field, data_kind=DATA_KIND.MEASUREMENT)"
   ],
   "metadata": {
    "collapsed": false,
    "pycharm": {
     "name": "#%%\n"
    },
    "ExecuteTime": {
     "end_time": "2024-06-03T08:36:17.895396Z",
     "start_time": "2024-06-03T08:36:16.652895Z"
    }
   },
   "outputs": [
    {
     "data": {
      "text/plain": [
       "{1: 'Stammdaten-106559.txt',\n",
       " 2: 'N-Tagessummen-106559.csv',\n",
       " 3: 'NS-Tagessummen-106559.csv',\n",
       " 4: 'SH-Tageswerte-106559.csv',\n",
       " 5: 'N-Minutensummen-106559.zip'}"
      ]
     },
     "execution_count": 4,
     "metadata": {},
     "output_type": "execute_result"
    }
   ],
   "execution_count": 4
  },
  {
   "cell_type": "code",
   "source": [
    "meta = get_station_reference_data(id_number, field=field, data_kind=DATA_KIND.MEASUREMENT)\n",
    "print(json.dumps(meta, indent=2, ensure_ascii=False))"
   ],
   "metadata": {
    "collapsed": false,
    "pycharm": {
     "name": "#%%\n"
    },
    "ExecuteTime": {
     "end_time": "2024-06-03T08:36:17.899746Z",
     "start_time": "2024-06-03T08:36:17.897202Z"
    }
   },
   "outputs": [
    {
     "name": "stdout",
     "output_type": "stream",
     "text": [
      "{\n",
      "  \"_raw\": \"Messstelle:                Steyr\\nHZB-Nummer:                106559\\nErrichtet:                 1864\\nSachgebiet:                NLV\\nDienststelle:              HD-Oberoesterreich\\nMessstellenbetreiber:      Hydrographischer Dienst\\n\\nHoehe:\\n gueltig seit:              Hoehe [m ue.AE.]:\\n  01.01.1864               336\\n\\nGeographische Koordinaten (Referenzellipsoid: Bessel 1841):\\n gueltig seit:              Laenge (Grad,Min,Sek):    Breite  (Grad,Min,Sek):\\n  01.01.1864               14 25 31                 48 03 02\\n\\nMessgroessen,-art:           seit:     bis:\\n  Niederschlag-Ombrometer  1864\\n  Niederschlag-Ombrograph  2002\\n  Schneehoehe               1897\\n  Neuschneehoehe            1897\\n  Temperatur               1896\\n\",\n",
      "  \"Messstelle\": \"Steyr\",\n",
      "  \"HZB-Nummer\": \"106559\",\n",
      "  \"Errichtet\": \"1864\",\n",
      "  \"Sachgebiet\": \"NLV\",\n",
      "  \"Dienststelle\": \"HD-Oberoesterreich\",\n",
      "  \"Messstellenbetreiber\": \"Hydrographischer Dienst\",\n",
      "  \"Hoehe\": [\n",
      "    {\n",
      "      \"gueltig seit\": \"01.01.1864\",\n",
      "      \"Hoehe [m ue.AE.]\": \"336\"\n",
      "    }\n",
      "  ],\n",
      "  \"Geographische Koordinaten (Referenzellipsoid: Bessel 1841)\": [\n",
      "    {\n",
      "      \"gueltig seit\": \"01.01.1864\",\n",
      "      \"Laenge (Grad,Min,Sek)\": \"14 25 31\",\n",
      "      \"Breite  (Grad,Min,Sek)\": \"48 03 02\"\n",
      "    }\n",
      "  ],\n",
      "  \"Messgroessen,-art\": [\n",
      "    {\n",
      "      \"Messgroessen,-art\": \"Niederschlag-Ombrometer\",\n",
      "      \"seit\": \"1864\"\n",
      "    },\n",
      "    {\n",
      "      \"Messgroessen,-art\": \"Niederschlag-Ombrograph\",\n",
      "      \"seit\": \"2002\"\n",
      "    },\n",
      "    {\n",
      "      \"Messgroessen,-art\": \"Schneehoehe\",\n",
      "      \"seit\": \"1897\"\n",
      "    },\n",
      "    {\n",
      "      \"Messgroessen,-art\": \"Neuschneehoehe\",\n",
      "      \"seit\": \"1897\"\n",
      "    },\n",
      "    {\n",
      "      \"Messgroessen,-art\": \"Temperatur\",\n",
      "      \"seit\": \"1896\"\n",
      "    }\n",
      "  ]\n",
      "}\n"
     ]
    }
   ],
   "execution_count": 5
  },
  {
   "cell_type": "code",
   "source": [
    "series = get_ehyd_data(id_number, field=field, file_number=2, data_kind=DATA_KIND.MEASUREMENT)\n",
    "series"
   ],
   "metadata": {
    "collapsed": false,
    "pycharm": {
     "name": "#%%\n"
    },
    "ExecuteTime": {
     "end_time": "2024-06-03T08:36:17.948913Z",
     "start_time": "2024-06-03T08:36:17.900580Z"
    }
   },
   "outputs": [
    {
     "data": {
      "text/plain": [
       "datetime\n",
       "1971-01-01    NaN\n",
       "1971-01-02    NaN\n",
       "1971-01-03    NaN\n",
       "1971-01-04    NaN\n",
       "1971-01-05    NaN\n",
       "             ... \n",
       "2021-12-28    9.1\n",
       "2021-12-29    7.4\n",
       "2021-12-30    2.0\n",
       "2021-12-31    0.0\n",
       "2022-01-01    NaN\n",
       "Freq: D, Name: N-Tagessummen-106559, Length: 18629, dtype: float64"
      ]
     },
     "execution_count": 6,
     "metadata": {},
     "output_type": "execute_result"
    }
   ],
   "execution_count": 6
  },
  {
   "cell_type": "code",
   "source": [
    "print(json.dumps(series.attrs, indent=2, ensure_ascii=False))\n"
   ],
   "metadata": {
    "collapsed": false,
    "pycharm": {
     "name": "#%%\n"
    },
    "ExecuteTime": {
     "end_time": "2024-06-03T08:36:17.951083Z",
     "start_time": "2024-06-03T08:36:17.949523Z"
    }
   },
   "outputs": [
    {
     "name": "stdout",
     "output_type": "stream",
     "text": [
      "{\n",
      "  \"_raw\": \"Messstelle:                Steyr\\nHZB-Nummer:                106559\\nHD-Nummer:                 HD4000152\\nDBMS-Nummer:               4000152\\nSachgebiet:                NLV\\nDienststelle:              HD-Oberoesterreich\\nMessstellenbetreiber:      Hydrographischer Dienst\\nHoehe:\\n gueltig seit:              Hoehe [m ue.AE.]:\\n  01.01.1864               336\\nGeographische Koordinaten (Referenzellipsoid: Bessel 1841):\\n gueltig seit:              Laenge (Grad,Min,Sek):    Breite  (Grad,Min,Sek):\\n  01.01.1864               14 25 31                 48 03 02\\nExportzeitreihe:           Niederschlag,I,Sum,T,1,O,Z,0,,, und Niederschlag,I,Sum,T,1,M,Z,0,,,(Schreiber)original N-Messer-Tagessummen mit abgeleiteten N-Schreiber-Tagessummen zusammengehaengt\\nExportqualitaet:            MAEXQueAEL\\nExportzeitraum:            01.01.1971 07:00 bis 01.01.2022 07:00\\nHinweis:                   Der Intervallwert gilt bis zum naechsten Zeitpunkt mit einem Wert oder Luecke\\nHinweis:                   Messwert=0,001 - nicht messbarer Niederschlag\\nWerteformat:               1 Nachkommastelle\\nEinheit:                   mm\\n\",\n",
      "  \"Messstelle\": \"Steyr\",\n",
      "  \"HZB-Nummer\": \"106559\",\n",
      "  \"HD-Nummer\": \"HD4000152\",\n",
      "  \"DBMS-Nummer\": \"4000152\",\n",
      "  \"Sachgebiet\": \"NLV\",\n",
      "  \"Dienststelle\": \"HD-Oberoesterreich\",\n",
      "  \"Messstellenbetreiber\": \"Hydrographischer Dienst\",\n",
      "  \"Hoehe\": [\n",
      "    {\n",
      "      \"gueltig seit\": \"01.01.1864\",\n",
      "      \"Hoehe [m ue.AE.]\": \"336\"\n",
      "    }\n",
      "  ],\n",
      "  \"Exportzeitreihe\": \"Niederschlag,I,Sum,T,1,O,Z,0,,, und Niederschlag,I,Sum,T,1,M,Z,0,,,(Schreiber)original N-Messer-Tagessummen mit abgeleiteten N-Schreiber-Tagessummen zusammengehaengt\",\n",
      "  \"Geographische Koordinaten (Referenzellipsoid: Bessel 1841)\": [\n",
      "    {\n",
      "      \"gueltig seit\": \"01.01.1864\",\n",
      "      \"Laenge (Grad,Min,Sek)\": \"14 25 31\",\n",
      "      \"Breite  (Grad,Min,Sek)\": \"48 03 02\"\n",
      "    }\n",
      "  ],\n",
      "  \"Exportqualitaet\": \"MAEXQueAEL\",\n",
      "  \"Exportzeitraum\": \"01.01.1971 07:00 bis 01.01.2022 07:00\",\n",
      "  \"Hinweis\": [\n",
      "    \"Der Intervallwert gilt bis zum naechsten Zeitpunkt mit einem Wert oder Luecke\",\n",
      "    \"Messwert=0,001 - nicht messbarer Niederschlag\"\n",
      "  ],\n",
      "  \"Werteformat\": \"1 Nachkommastelle\",\n",
      "  \"Einheit\": \"mm\"\n",
      "}\n"
     ]
    }
   ],
   "execution_count": 7
  },
  {
   "cell_type": "code",
   "source": [
    "series = get_ehyd_data(id_number, field=field, file_number=3, data_kind=DATA_KIND.MEASUREMENT)\n",
    "series"
   ],
   "metadata": {
    "collapsed": false,
    "pycharm": {
     "name": "#%%\n"
    },
    "ExecuteTime": {
     "end_time": "2024-06-03T08:36:17.997899Z",
     "start_time": "2024-06-03T08:36:17.951586Z"
    }
   },
   "outputs": [
    {
     "data": {
      "text/plain": [
       "datetime\n",
       "1970-09-01    NaN\n",
       "1970-09-02    0.0\n",
       "1970-09-03    0.0\n",
       "1970-09-04    0.0\n",
       "1970-09-05    0.0\n",
       "             ... \n",
       "2021-08-28    0.0\n",
       "2021-08-29    0.0\n",
       "2021-08-30    0.0\n",
       "2021-08-31    0.0\n",
       "2021-09-01    0.0\n",
       "Freq: D, Name: NS-Tagessummen-106559, Length: 18629, dtype: float64"
      ]
     },
     "execution_count": 8,
     "metadata": {},
     "output_type": "execute_result"
    }
   ],
   "execution_count": 8
  },
  {
   "cell_type": "code",
   "source": [
    "series = get_ehyd_data(id_number, field=field, file_number=4, data_kind=DATA_KIND.MEASUREMENT)\n",
    "series"
   ],
   "metadata": {
    "collapsed": false,
    "pycharm": {
     "name": "#%%\n"
    },
    "ExecuteTime": {
     "end_time": "2024-06-03T08:36:18.041533Z",
     "start_time": "2024-06-03T08:36:17.998559Z"
    }
   },
   "outputs": [
    {
     "data": {
      "text/plain": [
       "datetime\n",
       "1970-09-01    NaN\n",
       "1970-09-02    0.0\n",
       "1970-09-03    0.0\n",
       "1970-09-04    0.0\n",
       "1970-09-05    0.0\n",
       "             ... \n",
       "2021-08-28    0.0\n",
       "2021-08-29    0.0\n",
       "2021-08-30    0.0\n",
       "2021-08-31    0.0\n",
       "2021-09-01    0.0\n",
       "Freq: D, Name: SH-Tageswerte-106559, Length: 18629, dtype: float64"
      ]
     },
     "execution_count": 9,
     "metadata": {},
     "output_type": "execute_result"
    }
   ],
   "execution_count": 9
  },
  {
   "cell_type": "code",
   "source": [
    "series = get_ehyd_data(id_number, field=field, file_number=5, data_kind=DATA_KIND.MEASUREMENT)\n",
    "series\n"
   ],
   "metadata": {
    "collapsed": false,
    "pycharm": {
     "name": "#%%\n"
    },
    "ExecuteTime": {
     "end_time": "2024-06-03T08:36:18.742723Z",
     "start_time": "2024-06-03T08:36:18.042231Z"
    }
   },
   "outputs": [
    {
     "data": {
      "text/plain": [
       "datetime\n",
       "2002-01-01 00:00:00    0.0\n",
       "2002-01-01 00:01:00    0.0\n",
       "2002-01-01 00:02:00    0.0\n",
       "2002-01-01 00:03:00    0.0\n",
       "2002-01-01 00:04:00    0.0\n",
       "                      ... \n",
       "2020-12-31 23:56:00    0.0\n",
       "2020-12-31 23:57:00    0.0\n",
       "2020-12-31 23:58:00    0.0\n",
       "2020-12-31 23:59:00    0.0\n",
       "2021-01-01 00:00:00    NaN\n",
       "Freq: min, Name: N-Minutensummen-106559, Length: 9993601, dtype: float64"
      ]
     },
     "execution_count": 10,
     "metadata": {},
     "output_type": "execute_result"
    }
   ],
   "execution_count": 10
  },
  {
   "cell_type": "code",
   "source": [
    "def preview(di):\n",
    "    for fn, d in di.items():\n",
    "        print('_'*20 + '\\n', fn)\n",
    "        if isinstance(d, pd.Series):\n",
    "            print(d.head())\n",
    "        elif isinstance(d, dict):\n",
    "            print(f'Dict(keys={d.keys()})')\n",
    "        else:\n",
    "            print(d[:100])"
   ],
   "metadata": {
    "collapsed": false,
    "pycharm": {
     "name": "#%%\n"
    },
    "ExecuteTime": {
     "end_time": "2024-06-03T08:36:18.745858Z",
     "start_time": "2024-06-03T08:36:18.743465Z"
    }
   },
   "outputs": [],
   "execution_count": 11
  },
  {
   "cell_type": "code",
   "source": [
    "preview(get_ehyd_files(identifier=205641, field=FIELDS.OBERFLAECHENWASSER, data_kind=DATA_KIND.MEASUREMENT))"
   ],
   "metadata": {
    "collapsed": false,
    "pycharm": {
     "name": "#%%\n"
    },
    "ExecuteTime": {
     "end_time": "2024-06-03T08:36:20.400879Z",
     "start_time": "2024-06-03T08:36:18.746488Z"
    }
   },
   "outputs": [
    {
     "name": "stdout",
     "output_type": "stream",
     "text": [
      "____________________\n",
      " Stammdaten-205641.csv\n",
      "Dict(keys=dict_keys(['_raw', 'Messstelle', 'HZB-Nummer', 'HD-Nummer', 'DBMS-Nummer', 'Gewaesser', 'Sachgebiet', 'Dienststelle', 'Messstellenbetreiber', 'orogr.Einzugsgebiet [km²]', 'Pegelnullpunkt', 'Bundesmeldenetz(BMN)-Koordinaten', 'Messgroessen/Messart', 'AEnmerkungen']))\n",
      "____________________\n",
      " W-Tagesmittel-205641.csv\n",
      "datetime\n",
      "1976-01-01     NaN\n",
      "1976-01-02    87.0\n",
      "1976-01-03    81.0\n",
      "1976-01-04    77.0\n",
      "1976-01-05    67.0\n",
      "Freq: D, Name: W-Tagesmittel-205641, dtype: float64\n",
      "____________________\n",
      " W-Monatsminima-205641.csv\n",
      "datetime\n",
      "1976-01-01 22:30:00    55\n",
      "1976-02-08 16:00:00    56\n",
      "1976-03-13 13:00:00    51\n",
      "1976-04-19 23:00:00    53\n",
      "1976-05-20 04:00:00    55\n",
      "Name: W-Monatsminima-205641, dtype: int64\n",
      "____________________\n",
      " W-Monatsmaxima-205641.csv\n",
      "datetime\n",
      "1976-01-06 05:30:00    138\n",
      "1976-02-01 00:00:00     65\n",
      "1976-03-02 03:00:00     64\n",
      "1976-04-27 08:00:00    115\n",
      "1976-05-31 23:59:55    120\n",
      "Name: W-Monatsmaxima-205641, dtype: int64\n",
      "____________________\n",
      " Q-Tagesmittel-205641.csv\n",
      "datetime\n",
      "1954-01-01    1.00\n",
      "1954-01-02    0.80\n",
      "1954-01-03    0.80\n",
      "1954-01-04    0.84\n",
      "1954-01-05    0.80\n",
      "Freq: D, Name: Q-Tagesmittel-205641, dtype: float64\n",
      "____________________\n",
      " Q-Monatsminima-205641.csv\n",
      "datetime\n",
      "1954-01-07 12:00:00    0.80\n",
      "1954-02-10 12:00:00    0.69\n",
      "1954-03-04 12:00:00    0.84\n",
      "1954-04-30 12:00:00    1.13\n",
      "1954-05-05 12:00:00    0.96\n",
      "Name: Q-Monatsminima-205641, dtype: float64\n",
      "____________________\n",
      " Q-Monatsmaxima-205641.csv\n",
      "datetime\n",
      "1954-01-21 12:00:00    63.00\n",
      "1954-02-28 12:00:00     1.00\n",
      "1954-03-20 12:00:00     1.78\n",
      "1954-04-04 12:00:00    38.50\n",
      "1954-05-06 12:00:00    63.00\n",
      "Name: Q-Monatsmaxima-205641, dtype: float64\n",
      "____________________\n",
      " WT-Monatsmittel-205641.csv\n",
      "datetime\n",
      "1976-01-01     3.3\n",
      "1976-02-01     2.1\n",
      "1976-03-01     3.0\n",
      "1976-04-01     8.0\n",
      "1976-05-01    12.1\n",
      "Freq: MS, Name: WT-Monatsmittel-205641, dtype: float64\n"
     ]
    }
   ],
   "execution_count": 12
  },
  {
   "cell_type": "code",
   "source": [
    "preview(get_ehyd_files(identifier=356980, field=FIELDS.GRUNDWASSER, data_kind=DATA_KIND.MEASUREMENT))"
   ],
   "metadata": {
    "collapsed": false,
    "pycharm": {
     "name": "#%%\n"
    },
    "ExecuteTime": {
     "end_time": "2024-06-03T08:36:21.365659Z",
     "start_time": "2024-06-03T08:36:20.401898Z"
    }
   },
   "outputs": [
    {
     "name": "stdout",
     "output_type": "stream",
     "text": [
      "____________________\n",
      " Stammdaten-356980.txt\n",
      "Dict(keys=dict_keys(['_raw', 'Messstelle', 'HZB-Nummer', 'Errichtet', 'PorenGW-Gebiet', 'Grundwasserkoerper', 'Sachgebiet', 'AErbeitsgebiet', 'Dienststelle', 'Messstellenbetreiber', 'Hoehenangaben [m ue.AE.]', ' Gelaendehoehe', ' Messpunkthoehe', ' Sohllage', ' T-Messtiefe u.GOK', 'Geographische Koordinaten (Referenzellipsoid: Bessel 1841)']))\n",
      "____________________\n",
      " Grundwasserstand-Jahresmaxima-356980.csv\n",
      "datetime\n",
      "2013-06-02 16:00:00    429.03\n",
      "2014-05-16 14:00:00    428.97\n",
      "2015-01-10 20:00:00    427.61\n",
      "2016-07-14 10:00:00    428.16\n",
      "2017-08-07 10:00:00    427.36\n",
      "Name: Grundwasserstand-Jahresmaxima-356980, dtype: float64\n",
      "____________________\n",
      " Grundwasserstand-Jahresminima-356980.csv\n",
      "datetime\n",
      "2013-08-18 18:00:00    425.19\n",
      "2014-03-12 06:00:00    425.11\n",
      "2015-09-20 04:00:00    425.13\n",
      "2016-01-07 22:00:00    425.09\n",
      "2017-01-19 16:00:00    425.16\n",
      "Name: Grundwasserstand-Jahresminima-356980, dtype: float64\n",
      "____________________\n",
      " Grundwasserstand-Monatsmittel-356980.csv\n",
      "datetime\n",
      "2012-11-01    425.66\n",
      "2012-12-01    425.50\n",
      "2013-01-01    425.90\n",
      "2013-02-01    425.55\n",
      "2013-03-01    425.64\n",
      "Freq: MS, Name: Grundwasserstand-Monatsmittel-356980, dtype: float64\n",
      "____________________\n",
      " Grundwassertemperatur-Monatsmittel-356980.csv\n",
      "datetime\n",
      "2012-11-01    8.8\n",
      "2012-12-01    7.7\n",
      "2013-01-01    7.6\n",
      "2013-02-01    7.3\n",
      "2013-03-01    7.3\n",
      "Freq: MS, Name: Grundwassertemperatur-Monatsmittel-356980, dtype: float64\n"
     ]
    }
   ],
   "execution_count": 13
  },
  {
   "cell_type": "code",
   "source": "preview(get_ehyd_files(identifier=395855, field=FIELDS.QUELLEN, data_kind=DATA_KIND.MEASUREMENT))",
   "metadata": {
    "collapsed": false,
    "pycharm": {
     "name": "#%%\n"
    },
    "ExecuteTime": {
     "end_time": "2024-06-03T08:36:22.367124Z",
     "start_time": "2024-06-03T08:36:21.368755Z"
    }
   },
   "outputs": [
    {
     "name": "stdout",
     "output_type": "stream",
     "text": [
      "____________________\n",
      " Stammdaten-395855.txt\n",
      "Dict(keys=dict_keys(['_raw', 'Messstelle', 'HZB-Nummer', 'Errichtet', 'Gebirgsgruppe', 'Grundwasserkoerper', 'Sachgebiet', 'AErbeitsgebiet', 'Dienststelle', 'Messstellenbetreiber', 'Hoehenangaben [m ue.AE.]', ' Gelaendehoehe-Hauptquelle', ' Pegelnullpunkt', 'Geographische Koordinaten (Referenzellipsoid: Bessel 1841)']))\n",
      "____________________\n",
      " Quellleitfähigkeit-Tagesmittel-395855.csv\n",
      "datetime\n",
      "1995-01-01    359.2\n",
      "1995-01-02    351.6\n",
      "1995-01-03    347.5\n",
      "1995-01-04    344.1\n",
      "1995-01-05    345.6\n",
      "Freq: D, Name: Quellleitfähigkeit-Tagesmittel-395855, dtype: float64\n",
      "____________________\n",
      " Quellschüttung-Tagesmittel-395855.csv\n",
      "                1    2\n",
      "datetime              \n",
      "1995-01-01  176.9  NaN\n",
      "1995-01-02  158.9  NaN\n",
      "1995-01-03  149.4  NaN\n",
      "1995-01-04  143.0  NaN\n",
      "1995-01-05  139.5  NaN\n",
      "...           ...  ...\n",
      "1995-04-06  227.7  NaN\n",
      "1995-04-07  222.0  NaN\n",
      "1995-04-08  218.6  NaN\n",
      "1995-04-09  214.8  NaN\n",
      "1995-04-10  213.7  NaN\n",
      "\n",
      "[100 rows x 2 columns]\n",
      "____________________\n",
      " Quellwassertemperatur-Tagesmittel-395855.csv\n",
      "datetime\n",
      "1995-01-01    8.4\n",
      "1995-01-02    8.3\n",
      "1995-01-03    8.3\n",
      "1995-01-04    8.2\n",
      "1995-01-05    8.2\n",
      "Freq: D, Name: Quellwassertemperatur-Tagesmittel-395855, dtype: float64\n"
     ]
    }
   ],
   "execution_count": 14
  }
 ],
 "metadata": {
  "kernelspec": {
   "display_name": "Python 3",
   "language": "python",
   "name": "python3"
  },
  "language_info": {
   "codemirror_mode": {
    "name": "ipython",
    "version": 3
   },
   "file_extension": ".py",
   "mimetype": "text/x-python",
   "name": "python",
   "nbconvert_exporter": "python",
   "pygments_lexer": "ipython3",
   "version": "3.8.1"
  }
 },
 "nbformat": 4,
 "nbformat_minor": 1
}
