{
 "cells": [
  {
   "cell_type": "code",
   "execution_count": 1,
   "metadata": {},
   "outputs": [],
   "source": [
    "import pandas as pd\n",
    "\n",
    "from ehyd_tools.in_out import get_ehyd_data, FIELDS, DATA_KIND, get_basic_station_meta, available_files, get_meta_data, get_ehyd_stations, get_ehyd_files"
   ]
  },
  {
   "cell_type": "code",
   "execution_count": 2,
   "metadata": {},
   "outputs": [],
   "source": [
    "field = FIELDS.NIEDERSCHLAG\n",
    "# get_ehyd_stations(field)"
   ]
  },
  {
   "cell_type": "code",
   "execution_count": 3,
   "outputs": [
    {
     "data": {
      "text/plain": "{'Messstellen Name': 'Steyr',\n 'Jahr': 2017,\n 'Bundesland': 'Oberösterreich',\n 'Flussgebiet': 'Ennsgebiet',\n 'Seehöhe': 336}"
     },
     "execution_count": 3,
     "metadata": {},
     "output_type": "execute_result"
    }
   ],
   "source": [
    "id_number = 106559\n",
    "# f = _get_files(id_number, field=FIELDS.NIEDERSCHLAG, data_kind=DATA_KIND.MEASUREMENT)\n",
    "get_basic_station_meta(id_number, field=field)"
   ],
   "metadata": {
    "collapsed": false,
    "pycharm": {
     "name": "#%%\n"
    }
   }
  },
  {
   "cell_type": "code",
   "execution_count": 4,
   "outputs": [
    {
     "data": {
      "text/plain": "{1: 'Stammdaten-106559.txt',\n 2: 'N-Minutensummen-106559.zip',\n 3: 'N-Tagessummen-106559.csv',\n 4: 'NS-Tagessummen-106559.csv',\n 5: 'SH-Tageswerte-106559.csv'}"
     },
     "execution_count": 4,
     "metadata": {},
     "output_type": "execute_result"
    }
   ],
   "source": [
    "available_files(id_number, field=field, data_kind=DATA_KIND.MEASUREMENT)"
   ],
   "metadata": {
    "collapsed": false,
    "pycharm": {
     "name": "#%%\n"
    }
   }
  },
  {
   "cell_type": "code",
   "execution_count": 5,
   "outputs": [
    {
     "name": "stdout",
     "output_type": "stream",
     "text": [
      "Messstelle:                Steyr\n",
      "HZB-Nummer:                106559\n",
      "Errichtet:                 1864\n",
      "Sachgebiet:                NLV\n",
      "Dienststelle:              HD-Oberösterreich\n",
      "Messstellenbetreiber:      Hydrographischer Dienst\n",
      "\n",
      "Höhe:\n",
      " gültig seit:              Höhe [m ü.A.]:\n",
      "  01.01.1864               336\n",
      "\n",
      "Geographische Koordinaten (Referenzellipsoid: Bessel 1841):\n",
      " gültig seit:              Länge (Grad,Min,Sek):    Breite  (Grad,Min,Sek):\n",
      "  01.01.1864               14 25 31                 48 03 02\n",
      "\n",
      "Messgrößen,-art:           seit:     bis:\n",
      "  Niederschlag-Ombrometer  1864\n",
      "  Niederschlag-Ombrograph  2002\n",
      "  Schneehöhe               1897\n",
      "  Neuschneehöhe            1897\n",
      "  Temperatur               1896\n",
      "\n"
     ]
    }
   ],
   "source": [
    "meta = get_meta_data(id_number, field=field, data_kind=DATA_KIND.MEASUREMENT)\n",
    "print(meta)"
   ],
   "metadata": {
    "collapsed": false,
    "pycharm": {
     "name": "#%%\n"
    }
   }
  },
  {
   "cell_type": "code",
   "execution_count": 6,
   "outputs": [
    {
     "name": "stdout",
     "output_type": "stream",
     "text": [
      "You choose the id: \"106559\" with the meta-data: {'Messstellen Name': 'Steyr', 'Jahr': 2017, 'Bundesland': 'Oberösterreich', 'Flussgebiet': 'Ennsgebiet', 'Seehöhe': 336}.\n"
     ]
    },
    {
     "data": {
      "text/plain": "datetime\n2002-01-01 00:00:00    0.0\n2002-01-01 00:01:00    0.0\n2002-01-01 00:02:00    0.0\n2002-01-01 00:03:00    0.0\n2002-01-01 00:04:00    0.0\n                      ... \n2018-12-29 06:56:00    0.0\n2018-12-29 06:57:00    0.0\n2018-12-29 06:58:00    0.0\n2018-12-29 06:59:00    0.0\n2018-12-29 07:00:00    NaN\nFreq: T, Name: 1, Length: 8937061, dtype: float64"
     },
     "execution_count": 6,
     "metadata": {},
     "output_type": "execute_result"
    }
   ],
   "source": [
    "series = get_ehyd_data(id_number, field=field, file_number=2, data_kind=DATA_KIND.MEASUREMENT, with_meta=False)\n",
    "series"
   ],
   "metadata": {
    "collapsed": false,
    "pycharm": {
     "name": "#%%\n"
    }
   }
  },
  {
   "cell_type": "code",
   "execution_count": 7,
   "outputs": [
    {
     "name": "stdout",
     "output_type": "stream",
     "text": [
      "You choose the id: \"106559\" with the meta-data: {'Messstellen Name': 'Steyr', 'Jahr': 2017, 'Bundesland': 'Oberösterreich', 'Flussgebiet': 'Ennsgebiet', 'Seehöhe': 336}.\n"
     ]
    },
    {
     "data": {
      "text/plain": "datetime\n1971-01-01    0.500\n1971-01-02    0.001\n1971-01-03    3.000\n1971-01-04    0.000\n1971-01-05    0.000\n              ...  \n2018-12-28    0.100\n2018-12-29    1.700\n2018-12-30    6.500\n2018-12-31    5.200\n2019-01-01      NaN\nFreq: D, Name: 1, Length: 17533, dtype: float64"
     },
     "execution_count": 7,
     "metadata": {},
     "output_type": "execute_result"
    }
   ],
   "source": [
    "series = get_ehyd_data(id_number, field=field, file_number=3, data_kind=DATA_KIND.MEASUREMENT, with_meta=False)\n",
    "series"
   ],
   "metadata": {
    "collapsed": false,
    "pycharm": {
     "name": "#%%\n"
    }
   }
  },
  {
   "cell_type": "code",
   "execution_count": 8,
   "outputs": [
    {
     "name": "stdout",
     "output_type": "stream",
     "text": [
      "You choose the id: \"106559\" with the meta-data: {'Messstellen Name': 'Steyr', 'Jahr': 2017, 'Bundesland': 'Oberösterreich', 'Flussgebiet': 'Ennsgebiet', 'Seehöhe': 336}.\n"
     ]
    },
    {
     "data": {
      "text/plain": "datetime\n1970-09-01    NaN\n1970-09-02    0.0\n1970-09-03    0.0\n1970-09-04    0.0\n1970-09-05    0.0\n             ... \n2018-08-28    0.0\n2018-08-29    0.0\n2018-08-30    0.0\n2018-08-31    0.0\n2018-09-01    0.0\nFreq: D, Name: 1, Length: 17533, dtype: float64"
     },
     "execution_count": 8,
     "metadata": {},
     "output_type": "execute_result"
    }
   ],
   "source": [
    "series = get_ehyd_data(id_number, field=field, file_number=4, data_kind=DATA_KIND.MEASUREMENT, with_meta=False)\n",
    "series"
   ],
   "metadata": {
    "collapsed": false,
    "pycharm": {
     "name": "#%%\n"
    }
   }
  },
  {
   "cell_type": "code",
   "execution_count": 9,
   "outputs": [
    {
     "name": "stdout",
     "output_type": "stream",
     "text": [
      "You choose the id: \"106559\" with the meta-data: {'Messstellen Name': 'Steyr', 'Jahr': 2017, 'Bundesland': 'Oberösterreich', 'Flussgebiet': 'Ennsgebiet', 'Seehöhe': 336}.\n"
     ]
    },
    {
     "data": {
      "text/plain": "datetime\n1970-09-01    NaN\n1970-09-02    0.0\n1970-09-03    0.0\n1970-09-04    0.0\n1970-09-05    0.0\n             ... \n2018-08-28    0.0\n2018-08-29    0.0\n2018-08-30    0.0\n2018-08-31    0.0\n2018-09-01    0.0\nFreq: D, Name: 1, Length: 17533, dtype: float64"
     },
     "execution_count": 9,
     "metadata": {},
     "output_type": "execute_result"
    }
   ],
   "source": [
    "series = get_ehyd_data(id_number, field=field, file_number=5, data_kind=DATA_KIND.MEASUREMENT, with_meta=False)\n",
    "series\n"
   ],
   "metadata": {
    "collapsed": false,
    "pycharm": {
     "name": "#%%\n"
    }
   }
  },
  {
   "cell_type": "code",
   "execution_count": 10,
   "outputs": [],
   "source": [
    "def preview(di):\n",
    "    for fn, d in di.items():\n",
    "        print('_'*20 + '\\n', fn)\n",
    "        if isinstance(d, pd.Series):\n",
    "            print(d.head())\n",
    "        elif isinstance(d, dict):\n",
    "            print(f'Dict(keys={d.keys()})')\n",
    "        else:\n",
    "            print(d[:100])\n"
   ],
   "metadata": {
    "collapsed": false,
    "pycharm": {
     "name": "#%%\n"
    }
   }
  },
  {
   "cell_type": "code",
   "execution_count": 11,
   "outputs": [
    {
     "name": "stdout",
     "output_type": "stream",
     "text": [
      "____________________\n",
      " Stammdaten-205641.csv\n",
      "Messstelle:                ;Kremsmünster (Ort)\n",
      "HZB-Nummer:                ;205641\n",
      "HD-Nummer:        \n",
      "____________________\n",
      " Q-Monatsmaxima-205641.csv\n",
      "datetime\n",
      "1954-01-21      NaN\n",
      "1954-02-21    63.00\n",
      "1954-03-24     1.78\n",
      "1954-04-24    38.50\n",
      "1954-05-25    63.00\n",
      "Freq: 31D, Name: 1, dtype: float64\n",
      "____________________\n",
      " Q-Monatsminima-205641.csv\n",
      "datetime\n",
      "1954-01-07     NaN\n",
      "1954-02-08    0.80\n",
      "1954-03-12    0.84\n",
      "1954-04-13    0.84\n",
      "1954-05-15    0.96\n",
      "Freq: 32D, Name: 1, dtype: float64\n",
      "____________________\n",
      " Q-Tagesmittel-205641.csv\n",
      "datetime\n",
      "1954-01-01    1.00\n",
      "1954-01-02    0.80\n",
      "1954-01-03    0.80\n",
      "1954-01-04    0.84\n",
      "1954-01-05    0.80\n",
      "Freq: D, Name: 1, dtype: float64\n",
      "____________________\n",
      " W-Monatsmaxima-205641.csv\n",
      "datetime\n",
      "1976-01-06 00:00:00      NaN\n",
      "1976-01-31 18:30:00    138.0\n",
      "1976-02-26 13:00:00     65.0\n",
      "1976-03-23 07:30:00     64.0\n",
      "1976-04-18 02:00:00     64.0\n",
      "Freq: 37110T, Name: 1, dtype: float64\n",
      "____________________\n",
      " W-Monatsminima-205641.csv\n",
      "datetime\n",
      "1976-01-01 00:00:00     NaN\n",
      "1976-02-07 17:30:00    55.0\n",
      "1976-03-16 11:00:00    51.0\n",
      "1976-04-23 04:30:00    53.0\n",
      "1976-05-30 22:00:00    55.0\n",
      "Freq: 54330T, Name: 1, dtype: float64\n",
      "____________________\n",
      " W-Tagesmittel-205641.csv\n",
      "datetime\n",
      "1976-01-01     NaN\n",
      "1976-01-02    87.0\n",
      "1976-01-03    81.0\n",
      "1976-01-04    77.0\n",
      "1976-01-05    67.0\n",
      "Freq: D, Name: 1, dtype: float64\n",
      "____________________\n",
      " WT-Monatsmittel-205641.csv\n",
      "datetime\n",
      "1976-01-01     3.3\n",
      "1976-02-01     2.1\n",
      "1976-03-01     3.0\n",
      "1976-04-01     8.0\n",
      "1976-05-01    12.1\n",
      "Freq: MS, Name: 1, dtype: float64\n"
     ]
    }
   ],
   "source": [
    "preview(get_ehyd_files(identifier=205641, field=FIELDS.OBERFLAECHENWASSER, data_kind=DATA_KIND.MEASUREMENT))"
   ],
   "metadata": {
    "collapsed": false,
    "pycharm": {
     "name": "#%%\n"
    }
   }
  },
  {
   "cell_type": "code",
   "execution_count": 12,
   "outputs": [
    {
     "name": "stdout",
     "output_type": "stream",
     "text": [
      "____________________\n",
      " Stammdaten-356980.txt\n",
      "Messstelle:                Krippau, Br    1786\n",
      "HZB-Nummer:                356980\n",
      "Errichtet:         \n",
      "____________________\n",
      " Grundwasserstand-Jahresmaxima-356980.csv\n",
      "datetime\n",
      "2013-06-02 00:00:00       NaN\n",
      "2014-05-15 22:00:00    429.03\n",
      "2015-04-28 20:00:00    427.61\n",
      "2016-04-10 18:00:00    427.61\n",
      "2017-03-24 16:00:00    428.16\n",
      "Freq: 8350H, Name: 1, dtype: float64\n",
      "____________________\n",
      " Grundwasserstand-Jahresminima-356980.csv\n",
      "datetime\n",
      "2013-08-18 00:00:00       NaN\n",
      "2014-03-11 12:00:00    425.19\n",
      "2014-10-03 00:00:00    425.11\n",
      "2015-04-26 12:00:00    425.11\n",
      "2015-11-18 00:00:00    425.13\n",
      "Freq: 4932H, Name: 1, dtype: float64\n",
      "____________________\n",
      " Grundwasserstand-Monatsmittel-356980.csv\n",
      "datetime\n",
      "2012-11-01    425.66\n",
      "2012-12-01    425.50\n",
      "2013-01-01    425.90\n",
      "2013-02-01    425.55\n",
      "2013-03-01    425.64\n",
      "Freq: MS, Name: 1, dtype: float64\n",
      "____________________\n",
      " Grundwassertemperatur-Monatsmittel-356980.csv\n",
      "datetime\n",
      "2012-11-01    8.8\n",
      "2012-12-01    7.7\n",
      "2013-01-01    7.6\n",
      "2013-02-01    7.3\n",
      "2013-03-01    7.3\n",
      "Freq: MS, Name: 1, dtype: float64\n"
     ]
    }
   ],
   "source": [
    "preview(get_ehyd_files(identifier=356980, field=FIELDS.GRUNDWASSER, data_kind=DATA_KIND.MEASUREMENT))"
   ],
   "metadata": {
    "collapsed": false,
    "pycharm": {
     "name": "#%%\n"
    }
   }
  },
  {
   "cell_type": "code",
   "execution_count": 13,
   "outputs": [
    {
     "name": "stdout",
     "output_type": "stream",
     "text": [
      "____________________\n",
      " Stammdaten-395855.txt\n",
      "Messstelle:                Hammerbachquelle\n",
      "HZB-Nummer:                395855\n",
      "Errichtet:            \n",
      "____________________\n",
      " Quellleitfähigkeit-Tagesmittel-395855.csv\n",
      "datetime\n",
      "1995-01-01    359.2\n",
      "1995-01-02    351.6\n",
      "1995-01-03    347.5\n",
      "1995-01-04    344.1\n",
      "1995-01-05    345.6\n",
      "Freq: D, Name: 1, dtype: float64\n",
      "____________________\n",
      " Quellschüttung-Tagesmittel-395855.csv\n",
      "datetime\n",
      "1995-01-01    176.9\n",
      "1995-01-02    158.9\n",
      "1995-01-03    149.4\n",
      "1995-01-04    143.0\n",
      "1995-01-05    139.5\n",
      "Freq: D, Name: 1, dtype: float64\n",
      "____________________\n",
      " Quellwassertemperatur-Tagesmittel-395855.csv\n",
      "datetime\n",
      "1995-01-01    8.4\n",
      "1995-01-02    8.3\n",
      "1995-01-03    8.3\n",
      "1995-01-04    8.2\n",
      "1995-01-05    8.2\n",
      "Freq: D, Name: 1, dtype: float64\n"
     ]
    }
   ],
   "source": [
    "preview(get_ehyd_files(identifier=395855, field=FIELDS.QUELLEN, data_kind=DATA_KIND.MEASUREMENT))\n",
    "\n"
   ],
   "metadata": {
    "collapsed": false,
    "pycharm": {
     "name": "#%%\n"
    }
   }
  }
 ],
 "metadata": {
  "kernelspec": {
   "display_name": "Python 3",
   "language": "python",
   "name": "python3"
  },
  "language_info": {
   "codemirror_mode": {
    "name": "ipython",
    "version": 3
   },
   "file_extension": ".py",
   "mimetype": "text/x-python",
   "name": "python",
   "nbconvert_exporter": "python",
   "pygments_lexer": "ipython3",
   "version": "3.8.1"
  }
 },
 "nbformat": 4,
 "nbformat_minor": 1
}