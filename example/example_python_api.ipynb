{
 "cells": [
  {
   "cell_type": "code",
   "execution_count": 14,
   "metadata": {},
   "outputs": [],
   "source": [
    "from pandas import to_datetime, DataFrame, Series\n",
    "from os import path\n",
    "from ehyd_tools.data_processing import data_validation, data_availability, max_10a, check_period, rain_figure, create_statistics\n",
    "from ehyd_tools.in_out import get_series, import_series, export_series, csv_args, get_station_meta, ehyd_stations\n",
    "from ehyd_tools.sww_utils import span_table"
   ]
  },
  {
   "cell_type": "code",
   "execution_count": 3,
   "metadata": {
    "pycharm": {
     "name": "#%%\n"
    },
    "scrolled": true
   },
   "outputs": [
    {
     "data": {
      "text/html": [
       "<div>\n",
       "<style scoped>\n",
       "    .dataframe tbody tr th:only-of-type {\n",
       "        vertical-align: middle;\n",
       "    }\n",
       "\n",
       "    .dataframe tbody tr th {\n",
       "        vertical-align: top;\n",
       "    }\n",
       "\n",
       "    .dataframe thead th {\n",
       "        text-align: right;\n",
       "    }\n",
       "</style>\n",
       "<table border=\"1\" class=\"dataframe\">\n",
       "  <thead>\n",
       "    <tr style=\"text-align: right;\">\n",
       "      <th></th>\n",
       "      <th>Station</th>\n",
       "    </tr>\n",
       "  </thead>\n",
       "  <tbody>\n",
       "    <tr>\n",
       "      <th>100180</th>\n",
       "      <td>Tschagguns</td>\n",
       "    </tr>\n",
       "    <tr>\n",
       "      <th>100370</th>\n",
       "      <td>Thüringen</td>\n",
       "    </tr>\n",
       "    <tr>\n",
       "      <th>100446</th>\n",
       "      <td>Lustenau</td>\n",
       "    </tr>\n",
       "    <tr>\n",
       "      <th>100479</th>\n",
       "      <td>Dornbirn</td>\n",
       "    </tr>\n",
       "    <tr>\n",
       "      <th>100776</th>\n",
       "      <td>Bregenz</td>\n",
       "    </tr>\n",
       "    <tr>\n",
       "      <th>101303</th>\n",
       "      <td>Leutasch-Kirchplatzl</td>\n",
       "    </tr>\n",
       "    <tr>\n",
       "      <th>101816</th>\n",
       "      <td>Ladis-Neuegg</td>\n",
       "    </tr>\n",
       "    <tr>\n",
       "      <th>102772</th>\n",
       "      <td>Kelchsau</td>\n",
       "    </tr>\n",
       "    <tr>\n",
       "      <th>103143</th>\n",
       "      <td>St. Johann in Tirol-Almdorf</td>\n",
       "    </tr>\n",
       "    <tr>\n",
       "      <th>103895</th>\n",
       "      <td>Eugendorf</td>\n",
       "    </tr>\n",
       "    <tr>\n",
       "      <th>104604</th>\n",
       "      <td>Schlägl</td>\n",
       "    </tr>\n",
       "    <tr>\n",
       "      <th>104877</th>\n",
       "      <td>Linz-Urfahr</td>\n",
       "    </tr>\n",
       "    <tr>\n",
       "      <th>105445</th>\n",
       "      <td>Vöcklabruck</td>\n",
       "    </tr>\n",
       "    <tr>\n",
       "      <th>105528</th>\n",
       "      <td>Wels</td>\n",
       "    </tr>\n",
       "    <tr>\n",
       "      <th>105908</th>\n",
       "      <td>Flachau</td>\n",
       "    </tr>\n",
       "    <tr>\n",
       "      <th>106112</th>\n",
       "      <td>Liezen</td>\n",
       "    </tr>\n",
       "    <tr>\n",
       "      <th>106252</th>\n",
       "      <td>Wildalpen</td>\n",
       "    </tr>\n",
       "    <tr>\n",
       "      <th>106435</th>\n",
       "      <td>Klaus an der Pyhrnbahn</td>\n",
       "    </tr>\n",
       "    <tr>\n",
       "      <th>106559</th>\n",
       "      <td>Steyr</td>\n",
       "    </tr>\n",
       "    <tr>\n",
       "      <th>106856</th>\n",
       "      <td>Weitersfelden-Ritzenedt</td>\n",
       "    </tr>\n",
       "    <tr>\n",
       "      <th>107029</th>\n",
       "      <td>Lunz am See</td>\n",
       "    </tr>\n",
       "    <tr>\n",
       "      <th>107284</th>\n",
       "      <td>Melk</td>\n",
       "    </tr>\n",
       "    <tr>\n",
       "      <th>107854</th>\n",
       "      <td>Hollabrunn</td>\n",
       "    </tr>\n",
       "    <tr>\n",
       "      <th>108118</th>\n",
       "      <td>Wien (Botanischer Garten)</td>\n",
       "    </tr>\n",
       "    <tr>\n",
       "      <th>108456</th>\n",
       "      <td>Gutenstein</td>\n",
       "    </tr>\n",
       "    <tr>\n",
       "      <th>108563</th>\n",
       "      <td>Naglern</td>\n",
       "    </tr>\n",
       "    <tr>\n",
       "      <th>109280</th>\n",
       "      <td>Waidhofen an der Thaya</td>\n",
       "    </tr>\n",
       "    <tr>\n",
       "      <th>109918</th>\n",
       "      <td>Neunkirchen</td>\n",
       "    </tr>\n",
       "    <tr>\n",
       "      <th>110064</th>\n",
       "      <td>Gattendorf</td>\n",
       "    </tr>\n",
       "    <tr>\n",
       "      <th>110312</th>\n",
       "      <td>Karl</td>\n",
       "    </tr>\n",
       "    <tr>\n",
       "      <th>110734</th>\n",
       "      <td>Eisenstadt</td>\n",
       "    </tr>\n",
       "    <tr>\n",
       "      <th>111112</th>\n",
       "      <td>Oberwart</td>\n",
       "    </tr>\n",
       "    <tr>\n",
       "      <th>111435</th>\n",
       "      <td>Alpl</td>\n",
       "    </tr>\n",
       "    <tr>\n",
       "      <th>111716</th>\n",
       "      <td>Judenburg</td>\n",
       "    </tr>\n",
       "    <tr>\n",
       "      <th>112086</th>\n",
       "      <td>Graz-Andritz</td>\n",
       "    </tr>\n",
       "    <tr>\n",
       "      <th>112391</th>\n",
       "      <td>St.Peter am Ottersbach</td>\n",
       "    </tr>\n",
       "    <tr>\n",
       "      <th>112995</th>\n",
       "      <td>Ried im Innkreis</td>\n",
       "    </tr>\n",
       "    <tr>\n",
       "      <th>113001</th>\n",
       "      <td>Sillian</td>\n",
       "    </tr>\n",
       "    <tr>\n",
       "      <th>113050</th>\n",
       "      <td>Matrei in Osttirol</td>\n",
       "    </tr>\n",
       "    <tr>\n",
       "      <th>113548</th>\n",
       "      <td>Afritz</td>\n",
       "    </tr>\n",
       "    <tr>\n",
       "      <th>113670</th>\n",
       "      <td>Waidegg</td>\n",
       "    </tr>\n",
       "    <tr>\n",
       "      <th>114561</th>\n",
       "      <td>Klagenfurt</td>\n",
       "    </tr>\n",
       "    <tr>\n",
       "      <th>114702</th>\n",
       "      <td>Wolfsberg</td>\n",
       "    </tr>\n",
       "    <tr>\n",
       "      <th>115055</th>\n",
       "      <td>Kendlbruck</td>\n",
       "    </tr>\n",
       "    <tr>\n",
       "      <th>115642</th>\n",
       "      <td>St.Pölten</td>\n",
       "    </tr>\n",
       "    <tr>\n",
       "      <th>120022</th>\n",
       "      <td>Hall in Tirol</td>\n",
       "    </tr>\n",
       "  </tbody>\n",
       "</table>\n",
       "</div>"
      ],
      "text/plain": [
       "                            Station\n",
       "100180                   Tschagguns\n",
       "100370                    Thüringen\n",
       "100446                     Lustenau\n",
       "100479                     Dornbirn\n",
       "100776                      Bregenz\n",
       "101303         Leutasch-Kirchplatzl\n",
       "101816                 Ladis-Neuegg\n",
       "102772                     Kelchsau\n",
       "103143  St. Johann in Tirol-Almdorf\n",
       "103895                    Eugendorf\n",
       "104604                      Schlägl\n",
       "104877                  Linz-Urfahr\n",
       "105445                  Vöcklabruck\n",
       "105528                         Wels\n",
       "105908                      Flachau\n",
       "106112                       Liezen\n",
       "106252                    Wildalpen\n",
       "106435       Klaus an der Pyhrnbahn\n",
       "106559                        Steyr\n",
       "106856      Weitersfelden-Ritzenedt\n",
       "107029                  Lunz am See\n",
       "107284                         Melk\n",
       "107854                   Hollabrunn\n",
       "108118    Wien (Botanischer Garten)\n",
       "108456                   Gutenstein\n",
       "108563                      Naglern\n",
       "109280       Waidhofen an der Thaya\n",
       "109918                  Neunkirchen\n",
       "110064                   Gattendorf\n",
       "110312                         Karl\n",
       "110734                   Eisenstadt\n",
       "111112                     Oberwart\n",
       "111435                         Alpl\n",
       "111716                    Judenburg\n",
       "112086                 Graz-Andritz\n",
       "112391       St.Peter am Ottersbach\n",
       "112995             Ried im Innkreis\n",
       "113001                      Sillian\n",
       "113050           Matrei in Osttirol\n",
       "113548                       Afritz\n",
       "113670                      Waidegg\n",
       "114561                   Klagenfurt\n",
       "114702                    Wolfsberg\n",
       "115055                   Kendlbruck\n",
       "115642                    St.Pölten\n",
       "120022                Hall in Tirol"
      ]
     },
     "execution_count": 3,
     "metadata": {},
     "output_type": "execute_result"
    }
   ],
   "source": [
    "Series(ehyd_stations).rename(index='id').rename('Station').to_frame()"
   ]
  },
  {
   "cell_type": "code",
   "execution_count": 4,
   "metadata": {},
   "outputs": [],
   "source": [
    "id_number = 112086"
   ]
  },
  {
   "cell_type": "code",
   "execution_count": 5,
   "metadata": {},
   "outputs": [
    {
     "name": "stdout",
     "output_type": "stream",
     "text": [
      "You choose the station: \"Graz-Andritz\" with the id: \"112086\".\n"
     ]
    }
   ],
   "source": [
    "series = get_series(id_number)"
   ]
  },
  {
   "cell_type": "code",
   "execution_count": 5,
   "metadata": {},
   "outputs": [],
   "source": [
    "series = import_series('ehyd_{}.parquet'.format(id_number))"
   ]
  },
  {
   "cell_type": "code",
   "execution_count": null,
   "metadata": {
    "scrolled": true
   },
   "outputs": [],
   "source": [
    "print(get_station_meta(id_number))"
   ]
  },
  {
   "cell_type": "code",
   "execution_count": 6,
   "metadata": {},
   "outputs": [
    {
     "data": {
      "text/plain": [
       "(datetime\n",
       " 2007-09-17 13:56:00    0.0\n",
       " 2007-09-17 13:57:00    0.0\n",
       " 2007-09-17 13:58:00    0.0\n",
       " 2007-09-17 13:59:00    0.0\n",
       " 2007-09-17 14:00:00    0.0\n",
       " Freq: T, Name: precipitation, dtype: float64,\n",
       " datetime\n",
       " 2016-12-31 23:56:00    0.0\n",
       " 2016-12-31 23:57:00    0.0\n",
       " 2016-12-31 23:58:00    0.0\n",
       " 2016-12-31 23:59:00    0.0\n",
       " 2017-01-01 00:00:00    NaN\n",
       " Freq: T, Name: precipitation, dtype: float64)"
      ]
     },
     "execution_count": 6,
     "metadata": {},
     "output_type": "execute_result"
    }
   ],
   "source": [
    "series.head(), series.tail()"
   ]
  },
  {
   "cell_type": "code",
   "execution_count": 7,
   "metadata": {},
   "outputs": [
    {
     "data": {
      "text/plain": [
       "'ehyd_112086.csv'"
      ]
     },
     "execution_count": 7,
     "metadata": {},
     "output_type": "execute_result"
    }
   ],
   "source": [
    "export_series(series, filename='ehyd_{}'.format(id_number), save_as='csv', unix=False)"
   ]
  },
  {
   "cell_type": "code",
   "execution_count": 8,
   "metadata": {},
   "outputs": [
    {
     "data": {
      "text/plain": [
       "'ehyd_112086.parquet'"
      ]
     },
     "execution_count": 8,
     "metadata": {},
     "output_type": "execute_result"
    }
   ],
   "source": [
    "export_series(series, filename='ehyd_{}'.format(id_number), save_as='parquet')"
   ]
  },
  {
   "cell_type": "code",
   "execution_count": 9,
   "metadata": {},
   "outputs": [
    {
     "data": {
      "text/plain": [
       "2007-01-01 00:00:00    False\n",
       "2007-01-01 00:01:00    False\n",
       "2007-01-01 00:02:00    False\n",
       "2007-01-01 00:03:00    False\n",
       "2007-01-01 00:04:00    False\n",
       "                       ...  \n",
       "2017-12-31 23:55:00    False\n",
       "2017-12-31 23:56:00    False\n",
       "2017-12-31 23:57:00    False\n",
       "2017-12-31 23:58:00    False\n",
       "2017-12-31 23:59:00    False\n",
       "Freq: T, Length: 5785920, dtype: bool"
      ]
     },
     "execution_count": 9,
     "metadata": {},
     "output_type": "execute_result"
    }
   ],
   "source": [
    "tags = data_validation(series)\n",
    "availability = data_availability(tags)\n",
    "availability"
   ]
  },
  {
   "cell_type": "code",
   "execution_count": 10,
   "metadata": {},
   "outputs": [
    {
     "data": {
      "text/plain": [
       "(Timestamp('2007-09-17 01:55:00'),\n",
       " Timestamp('2017-09-17 01:55:00', freq='-1T'))"
      ]
     },
     "execution_count": 10,
     "metadata": {},
     "output_type": "execute_result"
    }
   ],
   "source": [
    "max_10a(availability)"
   ]
  },
  {
   "cell_type": "code",
   "execution_count": 11,
   "metadata": {},
   "outputs": [
    {
     "data": {
      "text/html": [
       "<div>\n",
       "<style scoped>\n",
       "    .dataframe tbody tr th:only-of-type {\n",
       "        vertical-align: middle;\n",
       "    }\n",
       "\n",
       "    .dataframe tbody tr th {\n",
       "        vertical-align: top;\n",
       "    }\n",
       "\n",
       "    .dataframe thead th {\n",
       "        text-align: right;\n",
       "    }\n",
       "</style>\n",
       "<table border=\"1\" class=\"dataframe\">\n",
       "  <thead>\n",
       "    <tr style=\"text-align: right;\">\n",
       "      <th></th>\n",
       "      <th>start</th>\n",
       "      <th>end</th>\n",
       "    </tr>\n",
       "  </thead>\n",
       "  <tbody>\n",
       "    <tr>\n",
       "      <th>0</th>\n",
       "      <td>2007-01-01</td>\n",
       "      <td>2007-09-17 13:55:00</td>\n",
       "    </tr>\n",
       "    <tr>\n",
       "      <th>1</th>\n",
       "      <td>2017-01-01</td>\n",
       "      <td>2017-12-31 23:59:00</td>\n",
       "    </tr>\n",
       "  </tbody>\n",
       "</table>\n",
       "</div>"
      ],
      "text/plain": [
       "       start                 end\n",
       "0 2007-01-01 2007-09-17 13:55:00\n",
       "1 2017-01-01 2017-12-31 23:59:00"
      ]
     },
     "execution_count": 11,
     "metadata": {},
     "output_type": "execute_result"
    }
   ],
   "source": [
    "span_table(~availability)"
   ]
  },
  {
   "cell_type": "code",
   "execution_count": 20,
   "metadata": {},
   "outputs": [],
   "source": [
    "availability_cut = 0.9\n",
    "stats = create_statistics(series, availability, availability_cut=availability_cut)"
   ]
  },
  {
   "cell_type": "code",
   "execution_count": 17,
   "metadata": {},
   "outputs": [
    {
     "data": {
      "text/plain": [
       "{'maximum': (1189.2449999991084,\n",
       "  Timestamp('2009-12-31 00:00:00', freq='A-DEC'),\n",
       "  1.0),\n",
       " 'minimum': (566.2639999999434,\n",
       "  Timestamp('2011-12-31 00:00:00', freq='A-DEC'),\n",
       "  1.0),\n",
       " 'mean': (871.1262222220123, 0.8444382177943822)}"
      ]
     },
     "execution_count": 17,
     "metadata": {},
     "output_type": "execute_result"
    }
   ],
   "source": [
    "stats"
   ]
  },
  {
   "cell_type": "code",
   "execution_count": 21,
   "metadata": {},
   "outputs": [
    {
     "name": "stdout",
     "output_type": "stream",
     "text": [
      "The annual totals of the data series serve as the data basis.\n",
      "The following statistics were analyzed:\n",
      "Only years with a availability of 90% will be evaluated.\n",
      "\n",
      "The maximum is 1189 mm and was in the year 2009 (with 100% Data available).\n",
      "The minimum is 566 mm and was in the year 2011 (with 100% Data available).\n",
      "The mean is 871 mm (with 84% Data available in average).\n"
     ]
    }
   ],
   "source": [
    "rain_fmt = '{:0.0f} mm'\n",
    "date_fmt = '{:%Y}'\n",
    "avail_fmt = '{:0.0%}'\n",
    "\n",
    "print(\n",
    "    'The annual totals of the data series serve as the data basis.\\n'\n",
    "    'The following statistics were analyzed:\\n'\n",
    "    'Only years with a availability of {avail} will be evaluated.\\n'\n",
    "    '\\n'\n",
    "    'The maximum is {rain} and was in the year {date} (with {avail} Data available).\\n'\n",
    "    'The minimum is {rain} and was in the year {date} (with {avail} Data available).\\n'\n",
    "    'The mean is {rain} (with {avail} Data available in average).'\n",
    "    ''.format(rain=rain_fmt, date=date_fmt, avail=avail_fmt).format(availability_cut,\n",
    "                                                                    *stats['maximum'],\n",
    "                                                                    *stats['minimum'],\n",
    "                                                                    *stats['mean']))"
   ]
  },
  {
   "cell_type": "code",
   "execution_count": 15,
   "metadata": {},
   "outputs": [
    {
     "data": {
      "text/plain": [
       "(<Figure size 841.89x595.276 with 2 Axes>,\n",
       " <matplotlib.axes._subplots.AxesSubplot at 0x1fa0a3fe970>)"
      ]
     },
     "execution_count": 15,
     "metadata": {},
     "output_type": "execute_result"
    },
    {
     "data": {
      "image/png": "[encoded data removed]",
      "text/plain": [
       "<Figure size 841.89x595.276 with 2 Axes>"
      ]
     },
     "metadata": {
      "needs_background": "light"
     },
     "output_type": "display_data"
    }
   ],
   "source": [
    "rain_figure(series, availability)"
   ]
  }
 ],
 "metadata": {
  "kernelspec": {
   "display_name": "Python 3",
   "language": "python",
   "name": "python3"
  },
  "language_info": {
   "codemirror_mode": {
    "name": "ipython",
    "version": 3
   },
   "file_extension": ".py",
   "mimetype": "text/x-python",
   "name": "python",
   "nbconvert_exporter": "python",
   "pygments_lexer": "ipython3",
   "version": "3.8.1"
  }
 },
 "nbformat": 4,
 "nbformat_minor": 1
}
