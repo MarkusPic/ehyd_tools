{
 "cells": [
  {
   "metadata": {
    "ExecuteTime": {
     "end_time": "2024-06-03T07:47:52.326423Z",
     "start_time": "2024-06-03T07:47:52.314163Z"
    }
   },
   "cell_type": "code",
   "source": [
    "%load_ext autoreload\n",
    "%autoreload 2"
   ],
   "outputs": [],
   "execution_count": 1
  },
  {
   "cell_type": "code",
   "metadata": {
    "ExecuteTime": {
     "end_time": "2024-06-03T07:47:53.135792Z",
     "start_time": "2024-06-03T07:47:52.327908Z"
    }
   },
   "source": [
    "from pandas import Series\n",
    "from ehyd_tools.data_processing import data_validation, data_availability, max_10a, create_statistics, agg_data_figure\n",
    "from ehyd_tools.in_out import get_ehyd_data, import_series, export_series, STATIONS_PRECIPITATION_HIGH_RES\n",
    "from ehyd_tools.sww_utils import span_table\n",
    "from ehyd_tools.in_out import get_station_reference_data"
   ],
   "outputs": [],
   "execution_count": 2
  },
  {
   "cell_type": "code",
   "source": [
    "STATIONS_PRECIPITATION_HIGH_RES"
   ],
   "metadata": {
    "collapsed": false,
    "pycharm": {
     "name": "#%%\n"
    },
    "ExecuteTime": {
     "end_time": "2024-06-03T07:47:53.147804Z",
     "start_time": "2024-06-03T07:47:53.136673Z"
    }
   },
   "outputs": [
    {
     "data": {
      "text/plain": [
       "{'100180': 'Tschagguns',\n",
       " '100370': 'Thüringen',\n",
       " '100446': 'Lustenau',\n",
       " '100479': 'Dornbirn',\n",
       " '100776': 'Bregenz',\n",
       " '101303': 'Leutasch-Kirchplatzl',\n",
       " '101816': 'Ladis-Neuegg',\n",
       " '102772': 'Kelchsau',\n",
       " '103143': 'St.Johann in Tirol-Almdorf',\n",
       " '103895': 'Eugendorf',\n",
       " '104604': 'Schlägl',\n",
       " '104877': 'Linz-Urfahr',\n",
       " '105445': 'Vöcklabruck',\n",
       " '105528': 'Wels',\n",
       " '105908': 'Flachau',\n",
       " '106112': 'Liezen',\n",
       " '106252': 'Wildalpen',\n",
       " '106435': 'Klaus an der Pyhrnbahn',\n",
       " '106559': 'Steyr',\n",
       " '106856': 'Weitersfelden-Ritzenedt',\n",
       " '107029': 'Lunz am See',\n",
       " '107284': 'Melk',\n",
       " '107854': 'Hollabrunn',\n",
       " '108118': 'Wien (Botanischer Garten)',\n",
       " '108456': 'Gutenstein',\n",
       " '108563': 'Naglern',\n",
       " '109280': 'Waidhofen an der Thaya',\n",
       " '109918': 'Neunkirchen',\n",
       " '110064': 'Gattendorf',\n",
       " '110312': 'Karl',\n",
       " '110734': 'Eisenstadt',\n",
       " '111112': 'Oberwart',\n",
       " '111435': 'Alpl',\n",
       " '111716': 'Judenburg',\n",
       " '112086': 'Graz-Andritz',\n",
       " '112391': 'St.Peter am Ottersbach',\n",
       " '112995': 'Ried im Innkreis',\n",
       " '113001': 'Sillian',\n",
       " '113050': 'Matrei in Osttirol',\n",
       " '113548': 'Afritz',\n",
       " '113670': 'Waidegg',\n",
       " '114561': 'Klagenfurt',\n",
       " '114702': 'Wolfsberg',\n",
       " '115055': 'Kendlbruck',\n",
       " '115642': 'St.Pölten',\n",
       " '120022': 'Hall in Tirol'}"
      ]
     },
     "execution_count": 3,
     "metadata": {},
     "output_type": "execute_result"
    }
   ],
   "execution_count": 3
  },
  {
   "cell_type": "code",
   "metadata": {
    "pycharm": {
     "name": "#%%\n"
    },
    "scrolled": true,
    "ExecuteTime": {
     "end_time": "2024-06-03T07:47:53.161537Z",
     "start_time": "2024-06-03T07:47:53.148733Z"
    }
   },
   "source": [
    "Series(STATIONS_PRECIPITATION_HIGH_RES).rename(index='id').rename('Station').to_frame()"
   ],
   "outputs": [
    {
     "data": {
      "text/plain": [
       "                           Station\n",
       "100180                  Tschagguns\n",
       "100370                   Thüringen\n",
       "100446                    Lustenau\n",
       "100479                    Dornbirn\n",
       "100776                     Bregenz\n",
       "101303        Leutasch-Kirchplatzl\n",
       "101816                Ladis-Neuegg\n",
       "102772                    Kelchsau\n",
       "103143  St.Johann in Tirol-Almdorf\n",
       "103895                   Eugendorf\n",
       "104604                     Schlägl\n",
       "104877                 Linz-Urfahr\n",
       "105445                 Vöcklabruck\n",
       "105528                        Wels\n",
       "105908                     Flachau\n",
       "106112                      Liezen\n",
       "106252                   Wildalpen\n",
       "106435      Klaus an der Pyhrnbahn\n",
       "106559                       Steyr\n",
       "106856     Weitersfelden-Ritzenedt\n",
       "107029                 Lunz am See\n",
       "107284                        Melk\n",
       "107854                  Hollabrunn\n",
       "108118   Wien (Botanischer Garten)\n",
       "108456                  Gutenstein\n",
       "108563                     Naglern\n",
       "109280      Waidhofen an der Thaya\n",
       "109918                 Neunkirchen\n",
       "110064                  Gattendorf\n",
       "110312                        Karl\n",
       "110734                  Eisenstadt\n",
       "111112                    Oberwart\n",
       "111435                        Alpl\n",
       "111716                   Judenburg\n",
       "112086                Graz-Andritz\n",
       "112391      St.Peter am Ottersbach\n",
       "112995            Ried im Innkreis\n",
       "113001                     Sillian\n",
       "113050          Matrei in Osttirol\n",
       "113548                      Afritz\n",
       "113670                     Waidegg\n",
       "114561                  Klagenfurt\n",
       "114702                   Wolfsberg\n",
       "115055                  Kendlbruck\n",
       "115642                   St.Pölten\n",
       "120022               Hall in Tirol"
      ],
      "text/html": [
       "<div>\n",
       "<style scoped>\n",
       "    .dataframe tbody tr th:only-of-type {\n",
       "        vertical-align: middle;\n",
       "    }\n",
       "\n",
       "    .dataframe tbody tr th {\n",
       "        vertical-align: top;\n",
       "    }\n",
       "\n",
       "    .dataframe thead th {\n",
       "        text-align: right;\n",
       "    }\n",
       "</style>\n",
       "<table border=\"1\" class=\"dataframe\">\n",
       "  <thead>\n",
       "    <tr style=\"text-align: right;\">\n",
       "      <th></th>\n",
       "      <th>Station</th>\n",
       "    </tr>\n",
       "  </thead>\n",
       "  <tbody>\n",
       "    <tr>\n",
       "      <th>100180</th>\n",
       "      <td>Tschagguns</td>\n",
       "    </tr>\n",
       "    <tr>\n",
       "      <th>100370</th>\n",
       "      <td>Thüringen</td>\n",
       "    </tr>\n",
       "    <tr>\n",
       "      <th>100446</th>\n",
       "      <td>Lustenau</td>\n",
       "    </tr>\n",
       "    <tr>\n",
       "      <th>100479</th>\n",
       "      <td>Dornbirn</td>\n",
       "    </tr>\n",
       "    <tr>\n",
       "      <th>100776</th>\n",
       "      <td>Bregenz</td>\n",
       "    </tr>\n",
       "    <tr>\n",
       "      <th>101303</th>\n",
       "      <td>Leutasch-Kirchplatzl</td>\n",
       "    </tr>\n",
       "    <tr>\n",
       "      <th>101816</th>\n",
       "      <td>Ladis-Neuegg</td>\n",
       "    </tr>\n",
       "    <tr>\n",
       "      <th>102772</th>\n",
       "      <td>Kelchsau</td>\n",
       "    </tr>\n",
       "    <tr>\n",
       "      <th>103143</th>\n",
       "      <td>St.Johann in Tirol-Almdorf</td>\n",
       "    </tr>\n",
       "    <tr>\n",
       "      <th>103895</th>\n",
       "      <td>Eugendorf</td>\n",
       "    </tr>\n",
       "    <tr>\n",
       "      <th>104604</th>\n",
       "      <td>Schlägl</td>\n",
       "    </tr>\n",
       "    <tr>\n",
       "      <th>104877</th>\n",
       "      <td>Linz-Urfahr</td>\n",
       "    </tr>\n",
       "    <tr>\n",
       "      <th>105445</th>\n",
       "      <td>Vöcklabruck</td>\n",
       "    </tr>\n",
       "    <tr>\n",
       "      <th>105528</th>\n",
       "      <td>Wels</td>\n",
       "    </tr>\n",
       "    <tr>\n",
       "      <th>105908</th>\n",
       "      <td>Flachau</td>\n",
       "    </tr>\n",
       "    <tr>\n",
       "      <th>106112</th>\n",
       "      <td>Liezen</td>\n",
       "    </tr>\n",
       "    <tr>\n",
       "      <th>106252</th>\n",
       "      <td>Wildalpen</td>\n",
       "    </tr>\n",
       "    <tr>\n",
       "      <th>106435</th>\n",
       "      <td>Klaus an der Pyhrnbahn</td>\n",
       "    </tr>\n",
       "    <tr>\n",
       "      <th>106559</th>\n",
       "      <td>Steyr</td>\n",
       "    </tr>\n",
       "    <tr>\n",
       "      <th>106856</th>\n",
       "      <td>Weitersfelden-Ritzenedt</td>\n",
       "    </tr>\n",
       "    <tr>\n",
       "      <th>107029</th>\n",
       "      <td>Lunz am See</td>\n",
       "    </tr>\n",
       "    <tr>\n",
       "      <th>107284</th>\n",
       "      <td>Melk</td>\n",
       "    </tr>\n",
       "    <tr>\n",
       "      <th>107854</th>\n",
       "      <td>Hollabrunn</td>\n",
       "    </tr>\n",
       "    <tr>\n",
       "      <th>108118</th>\n",
       "      <td>Wien (Botanischer Garten)</td>\n",
       "    </tr>\n",
       "    <tr>\n",
       "      <th>108456</th>\n",
       "      <td>Gutenstein</td>\n",
       "    </tr>\n",
       "    <tr>\n",
       "      <th>108563</th>\n",
       "      <td>Naglern</td>\n",
       "    </tr>\n",
       "    <tr>\n",
       "      <th>109280</th>\n",
       "      <td>Waidhofen an der Thaya</td>\n",
       "    </tr>\n",
       "    <tr>\n",
       "      <th>109918</th>\n",
       "      <td>Neunkirchen</td>\n",
       "    </tr>\n",
       "    <tr>\n",
       "      <th>110064</th>\n",
       "      <td>Gattendorf</td>\n",
       "    </tr>\n",
       "    <tr>\n",
       "      <th>110312</th>\n",
       "      <td>Karl</td>\n",
       "    </tr>\n",
       "    <tr>\n",
       "      <th>110734</th>\n",
       "      <td>Eisenstadt</td>\n",
       "    </tr>\n",
       "    <tr>\n",
       "      <th>111112</th>\n",
       "      <td>Oberwart</td>\n",
       "    </tr>\n",
       "    <tr>\n",
       "      <th>111435</th>\n",
       "      <td>Alpl</td>\n",
       "    </tr>\n",
       "    <tr>\n",
       "      <th>111716</th>\n",
       "      <td>Judenburg</td>\n",
       "    </tr>\n",
       "    <tr>\n",
       "      <th>112086</th>\n",
       "      <td>Graz-Andritz</td>\n",
       "    </tr>\n",
       "    <tr>\n",
       "      <th>112391</th>\n",
       "      <td>St.Peter am Ottersbach</td>\n",
       "    </tr>\n",
       "    <tr>\n",
       "      <th>112995</th>\n",
       "      <td>Ried im Innkreis</td>\n",
       "    </tr>\n",
       "    <tr>\n",
       "      <th>113001</th>\n",
       "      <td>Sillian</td>\n",
       "    </tr>\n",
       "    <tr>\n",
       "      <th>113050</th>\n",
       "      <td>Matrei in Osttirol</td>\n",
       "    </tr>\n",
       "    <tr>\n",
       "      <th>113548</th>\n",
       "      <td>Afritz</td>\n",
       "    </tr>\n",
       "    <tr>\n",
       "      <th>113670</th>\n",
       "      <td>Waidegg</td>\n",
       "    </tr>\n",
       "    <tr>\n",
       "      <th>114561</th>\n",
       "      <td>Klagenfurt</td>\n",
       "    </tr>\n",
       "    <tr>\n",
       "      <th>114702</th>\n",
       "      <td>Wolfsberg</td>\n",
       "    </tr>\n",
       "    <tr>\n",
       "      <th>115055</th>\n",
       "      <td>Kendlbruck</td>\n",
       "    </tr>\n",
       "    <tr>\n",
       "      <th>115642</th>\n",
       "      <td>St.Pölten</td>\n",
       "    </tr>\n",
       "    <tr>\n",
       "      <th>120022</th>\n",
       "      <td>Hall in Tirol</td>\n",
       "    </tr>\n",
       "  </tbody>\n",
       "</table>\n",
       "</div>"
      ]
     },
     "execution_count": 4,
     "metadata": {},
     "output_type": "execute_result"
    }
   ],
   "execution_count": 4
  },
  {
   "cell_type": "code",
   "metadata": {
    "ExecuteTime": {
     "end_time": "2024-06-03T07:47:53.171721Z",
     "start_time": "2024-06-03T07:47:53.163143Z"
    }
   },
   "source": [
    "id_number = 112086"
   ],
   "outputs": [],
   "execution_count": 5
  },
  {
   "cell_type": "code",
   "metadata": {
    "ExecuteTime": {
     "end_time": "2024-06-03T07:47:54.442006Z",
     "start_time": "2024-06-03T07:47:53.172793Z"
    }
   },
   "source": [
    "series = get_ehyd_data(id_number)"
   ],
   "outputs": [],
   "execution_count": 6
  },
  {
   "cell_type": "code",
   "metadata": {
    "ExecuteTime": {
     "end_time": "2024-06-03T07:47:54.675537Z",
     "start_time": "2024-06-03T07:47:54.442638Z"
    }
   },
   "source": "series = import_series(f'ehyd_{id_number}.parquet')",
   "outputs": [],
   "execution_count": 7
  },
  {
   "cell_type": "code",
   "metadata": {
    "scrolled": true,
    "ExecuteTime": {
     "end_time": "2024-06-03T07:47:55.004225Z",
     "start_time": "2024-06-03T07:47:54.677352Z"
    }
   },
   "source": [
    "print(get_station_reference_data(id_number))"
   ],
   "outputs": [
    {
     "name": "stdout",
     "output_type": "stream",
     "text": [
      "{'_raw': 'Messstelle:                Graz-AEndritz\\nHZB-Nummer:                112086\\nErrichtet:                 1946\\nSachgebiet:                NLV\\nDienststelle:              HD-Steiermark\\nMessstellenbetreiber:      Hydrographischer Dienst\\n\\nHoehe:\\n gueltig seit:              Hoehe [m ue.AE.]:\\n  01.01.1946               360\\n  01.01.2011               361\\n\\nGeographische Koordinaten (Referenzellipsoid: Bessel 1841):\\n gueltig seit:              Laenge (Grad,Min,Sek):    Breite  (Grad,Min,Sek):\\n  01.01.2011               15 24 38                 47 06 22\\n  01.01.1946               15 24 46                 47 06 05\\n\\nMessgroessen,-art:           seit:     bis:\\n  Niederschlag-Ombrometer  1946\\n  Niederschlag-Ombrograph  2007\\n  Schneehoehe               1946\\n  Neuschneehoehe            1946\\n  Temperatur               1947\\n', 'Messstelle': 'Graz-AEndritz', 'HZB-Nummer': '112086', 'Errichtet': '1946', 'Sachgebiet': 'NLV', 'Dienststelle': 'HD-Steiermark', 'Messstellenbetreiber': 'Hydrographischer Dienst', 'Hoehe': [{'gueltig seit': '01.01.1946', 'Hoehe [m ue.AE.]': '360'}, {'gueltig seit': '01.01.2011', 'Hoehe [m ue.AE.]': '361'}], 'Geographische Koordinaten (Referenzellipsoid: Bessel 1841)': [{'gueltig seit': '01.01.2011', 'Laenge (Grad,Min,Sek)': '15 24 38', 'Breite  (Grad,Min,Sek)': '47 06 22'}, {'gueltig seit': '01.01.1946', 'Laenge (Grad,Min,Sek)': '15 24 46', 'Breite  (Grad,Min,Sek)': '47 06 05'}], 'Messgroessen,-art': [{'Messgroessen,-art': 'Niederschlag-Ombrometer', 'seit': '1946'}, {'Messgroessen,-art': 'Niederschlag-Ombrograph', 'seit': '2007'}, {'Messgroessen,-art': 'Schneehoehe', 'seit': '1946'}, {'Messgroessen,-art': 'Neuschneehoehe', 'seit': '1946'}, {'Messgroessen,-art': 'Temperatur', 'seit': '1947'}]}\n"
     ]
    }
   ],
   "execution_count": 8
  },
  {
   "cell_type": "code",
   "metadata": {
    "ExecuteTime": {
     "end_time": "2024-06-03T07:47:55.015515Z",
     "start_time": "2024-06-03T07:47:55.005166Z"
    }
   },
   "source": [
    "series.head(), series.tail()"
   ],
   "outputs": [
    {
     "data": {
      "text/plain": [
       "(datetime\n",
       " 2007-09-17 13:56:00    0.0\n",
       " 2007-09-17 13:57:00    0.0\n",
       " 2007-09-17 13:58:00    0.0\n",
       " 2007-09-17 13:59:00    0.0\n",
       " 2007-09-17 14:00:00    0.0\n",
       " Freq: min, Name: N-Minutensummen-112086, dtype: float64,\n",
       " datetime\n",
       " 2019-12-31 23:56:00    0.0\n",
       " 2019-12-31 23:57:00    0.0\n",
       " 2019-12-31 23:58:00    0.0\n",
       " 2019-12-31 23:59:00    0.0\n",
       " 2020-01-01 00:00:00    NaN\n",
       " Freq: min, Name: N-Minutensummen-112086, dtype: float64)"
      ]
     },
     "execution_count": 9,
     "metadata": {},
     "output_type": "execute_result"
    }
   ],
   "execution_count": 9
  },
  {
   "cell_type": "code",
   "metadata": {
    "ExecuteTime": {
     "end_time": "2024-06-03T07:48:05.608681Z",
     "start_time": "2024-06-03T07:47:55.016207Z"
    }
   },
   "source": "export_series(series, filename=f'ehyd_{id_number}', save_as='csv', unix=False)",
   "outputs": [
    {
     "data": {
      "text/plain": [
       "'ehyd_112086.csv'"
      ]
     },
     "execution_count": 10,
     "metadata": {},
     "output_type": "execute_result"
    }
   ],
   "execution_count": 10
  },
  {
   "cell_type": "code",
   "metadata": {
    "ExecuteTime": {
     "end_time": "2024-06-03T07:48:05.890880Z",
     "start_time": "2024-06-03T07:48:05.609618Z"
    }
   },
   "source": "export_series(series, filename=f'ehyd_{id_number}', save_as='parquet')",
   "outputs": [
    {
     "data": {
      "text/plain": [
       "'ehyd_112086.parquet'"
      ]
     },
     "execution_count": 11,
     "metadata": {},
     "output_type": "execute_result"
    }
   ],
   "execution_count": 11
  },
  {
   "cell_type": "code",
   "metadata": {
    "ExecuteTime": {
     "end_time": "2024-06-03T07:48:07.721189Z",
     "start_time": "2024-06-03T07:48:05.891583Z"
    }
   },
   "source": [
    "tags = data_validation(series)\n",
    "availability = data_availability(tags)\n",
    "availability"
   ],
   "outputs": [
    {
     "data": {
      "text/plain": [
       "2007-01-01 00:00:00    False\n",
       "2007-01-01 00:01:00    False\n",
       "2007-01-01 00:02:00    False\n",
       "2007-01-01 00:03:00    False\n",
       "2007-01-01 00:04:00    False\n",
       "                       ...  \n",
       "2020-12-31 23:55:00    False\n",
       "2020-12-31 23:56:00    False\n",
       "2020-12-31 23:57:00    False\n",
       "2020-12-31 23:58:00    False\n",
       "2020-12-31 23:59:00    False\n",
       "Freq: min, Length: 7364160, dtype: bool"
      ]
     },
     "execution_count": 12,
     "metadata": {},
     "output_type": "execute_result"
    }
   ],
   "execution_count": 12
  },
  {
   "cell_type": "code",
   "metadata": {
    "ExecuteTime": {
     "end_time": "2024-06-03T07:48:07.900356Z",
     "start_time": "2024-06-03T07:48:07.722021Z"
    }
   },
   "source": [
    "max_10a(availability)"
   ],
   "outputs": [
    {
     "data": {
      "text/plain": [
       "(Timestamp('2009-12-31 23:59:00'), Timestamp('2019-12-31 23:59:00'))"
      ]
     },
     "execution_count": 13,
     "metadata": {},
     "output_type": "execute_result"
    }
   ],
   "execution_count": 13
  },
  {
   "cell_type": "code",
   "metadata": {
    "ExecuteTime": {
     "end_time": "2024-06-03T07:48:07.944777Z",
     "start_time": "2024-06-03T07:48:07.902910Z"
    }
   },
   "source": [
    "span_table(~availability)"
   ],
   "outputs": [
    {
     "data": {
      "text/plain": [
       "       start                 end\n",
       "0 2007-01-01 2007-09-17 13:55:00\n",
       "1 2020-01-01 2020-12-31 23:59:00"
      ],
      "text/html": [
       "<div>\n",
       "<style scoped>\n",
       "    .dataframe tbody tr th:only-of-type {\n",
       "        vertical-align: middle;\n",
       "    }\n",
       "\n",
       "    .dataframe tbody tr th {\n",
       "        vertical-align: top;\n",
       "    }\n",
       "\n",
       "    .dataframe thead th {\n",
       "        text-align: right;\n",
       "    }\n",
       "</style>\n",
       "<table border=\"1\" class=\"dataframe\">\n",
       "  <thead>\n",
       "    <tr style=\"text-align: right;\">\n",
       "      <th></th>\n",
       "      <th>start</th>\n",
       "      <th>end</th>\n",
       "    </tr>\n",
       "  </thead>\n",
       "  <tbody>\n",
       "    <tr>\n",
       "      <th>0</th>\n",
       "      <td>2007-01-01</td>\n",
       "      <td>2007-09-17 13:55:00</td>\n",
       "    </tr>\n",
       "    <tr>\n",
       "      <th>1</th>\n",
       "      <td>2020-01-01</td>\n",
       "      <td>2020-12-31 23:59:00</td>\n",
       "    </tr>\n",
       "  </tbody>\n",
       "</table>\n",
       "</div>"
      ]
     },
     "execution_count": 14,
     "metadata": {},
     "output_type": "execute_result"
    }
   ],
   "execution_count": 14
  },
  {
   "cell_type": "code",
   "metadata": {
    "ExecuteTime": {
     "end_time": "2024-06-03T07:48:08.257686Z",
     "start_time": "2024-06-03T07:48:07.945474Z"
    }
   },
   "source": [
    "availability_cut = 0.9\n",
    "stats = create_statistics(series, availability, availability_cut=availability_cut)"
   ],
   "outputs": [],
   "execution_count": 15
  },
  {
   "cell_type": "code",
   "metadata": {
    "ExecuteTime": {
     "end_time": "2024-06-03T07:48:08.267557Z",
     "start_time": "2024-06-03T07:48:08.258422Z"
    }
   },
   "source": [
    "stats"
   ],
   "outputs": [
    {
     "data": {
      "text/plain": [
       "{'maximum': 1189.2450000000001,\n",
       " 'maximum_date': Timestamp('2009-12-31 00:00:00'),\n",
       " 'maximum_avail': 1.0,\n",
       " 'minimum': 564.231,\n",
       " 'minimum_date': Timestamp('2019-12-31 00:00:00'),\n",
       " 'minimum_avail': 1.0,\n",
       " 'mean': 835.0704999999999,\n",
       " 'mean_avail': 0.8777728854098718}"
      ]
     },
     "execution_count": 16,
     "metadata": {},
     "output_type": "execute_result"
    }
   ],
   "execution_count": 16
  },
  {
   "cell_type": "code",
   "metadata": {
    "ExecuteTime": {
     "end_time": "2024-06-03T07:48:08.277173Z",
     "start_time": "2024-06-03T07:48:08.268349Z"
    }
   },
   "source": [
    "print(\n",
    "    f'The annual totals of the data series serve as the data basis.\\n'\n",
    "    f'The following statistics were analyzed:\\n'\n",
    "    f'Only years with a availability of {availability_cut} will be evaluated.\\n'\n",
    "    f'\\n'\n",
    "    f'The maximum is {stats[\"maximum\"]:0.0f} mm and was in the year {stats[\"maximum_date\"]:%Y} (with {stats[\"maximum_avail\"]:0.0%} Data available).\\n'\n",
    "    f'The minimum is {stats[\"minimum\"]:0.0f} mm and was in the year {stats[\"minimum_date\"]:%Y} (with {stats[\"minimum_avail\"]:0.0%} Data available).\\n'\n",
    "    f'The mean is {stats[\"mean\"]:0.0f} mm (with {stats[\"mean_avail\"]:0.0%} Data available in average).')"
   ],
   "outputs": [
    {
     "name": "stdout",
     "output_type": "stream",
     "text": [
      "The annual totals of the data series serve as the data basis.\n",
      "The following statistics were analyzed:\n",
      "Only years with a availability of 0.9 will be evaluated.\n",
      "\n",
      "The maximum is 1189 mm and was in the year 2009 (with 100% Data available).\n",
      "The minimum is 564 mm and was in the year 2019 (with 100% Data available).\n",
      "The mean is 835 mm (with 88% Data available in average).\n"
     ]
    }
   ],
   "execution_count": 17
  },
  {
   "cell_type": "code",
   "metadata": {
    "ExecuteTime": {
     "end_time": "2024-06-03T07:48:09.273575Z",
     "start_time": "2024-06-03T07:48:08.277985Z"
    }
   },
   "source": [
    "agg_data_figure(series, availability)"
   ],
   "outputs": [
    {
     "data": {
      "text/plain": [
       "(<Figure size 2338.58x1653.54 with 2 Axes>,\n",
       " <Axes: xlabel='Zeit', ylabel='Niederschlag (mm/Monat)'>)"
      ]
     },
     "execution_count": 18,
     "metadata": {},
     "output_type": "execute_result"
    },
    {
     "data": {
      "text/plain": [
       "<Figure size 2338.58x1653.54 with 2 Axes>"
      ],
      "image/png": "[encoded data removed]"
     },
     "metadata": {},
     "output_type": "display_data"
    }
   ],
   "execution_count": 18
  }
 ],
 "metadata": {
  "kernelspec": {
   "display_name": "Python 3",
   "language": "python",
   "name": "python3"
  },
  "language_info": {
   "codemirror_mode": {
    "name": "ipython",
    "version": 3
   },
   "file_extension": ".py",
   "mimetype": "text/x-python",
   "name": "python",
   "nbconvert_exporter": "python",
   "pygments_lexer": "ipython3",
   "version": "3.8.1"
  }
 },
 "nbformat": 4,
 "nbformat_minor": 1
}
