{
 "cells": [
  {
   "cell_type": "code",
   "execution_count": 11,
   "metadata": {
    "collapsed": true
   },
   "outputs": [],
   "source": [
    "from ehyd_tools.in_out import get_station_reference_data, STATIONS_PRECIPITATION_HIGH_RES\n",
    "from pyproj import Transformer\n",
    "from shapely.geometry import Point\n",
    "import geopandas as gpd"
   ]
  },
  {
   "cell_type": "code",
   "execution_count": 2,
   "outputs": [],
   "source": [
    "lables = ['Sillian',\n",
    "          'Liezen',\n",
    "          'Klagenfurt',\n",
    "          'Bregenz',\n",
    "          'Graz-Andritz',\n",
    "          'Linz-Urfahr',\n",
    "          'Wien (Botanischer Garten)',\n",
    "          'Hollabrunn']\n"
   ],
   "metadata": {
    "collapsed": false,
    "pycharm": {
     "name": "#%%\n"
    }
   }
  },
  {
   "cell_type": "code",
   "execution_count": 3,
   "outputs": [],
   "source": [
    "ehyd_stations_ = {v: k for k, v in STATIONS_PRECIPITATION_HIGH_RES.items()}"
   ],
   "metadata": {
    "collapsed": false,
    "pycharm": {
     "name": "#%%\n"
    }
   }
  },
  {
   "cell_type": "code",
   "execution_count": 19,
   "outputs": [],
   "source": [
    "def degree_to_decimal(degree, minutes, seconds):\n",
    "    return float(degree) + float(minutes) / 60 + float(seconds) / 60 / 60\n",
    "\n",
    "\n",
    "def convert_geo(g):\n",
    "    l = degree_to_decimal(*g['Länge (Grad,Min,Sek)'].split())\n",
    "    b = degree_to_decimal(*g['Breite  (Grad,Min,Sek)'].split())\n",
    "    # https://epsg.io/4004\n",
    "    # https://epsg.io/32633\n",
    "    return l, b\n",
    "    # transformer = Transformer.from_crs(4004, 32633, always_xy=True)\n",
    "    # return transformer.transform(l, b)\n"
   ],
   "metadata": {
    "collapsed": false,
    "pycharm": {
     "name": "#%%\n"
    }
   }
  },
  {
   "cell_type": "code",
   "execution_count": 25,
   "outputs": [],
   "source": [
    "res = dict()\n",
    "for l in lables:\n",
    "    m = get_station_reference_data(ehyd_stations_[l])\n",
    "    g = m['Geographische Koordinaten (Referenzellipsoid: Bessel 1841)'][-1]\n",
    "    res[l] = Point(convert_geo(g))"
   ],
   "metadata": {
    "collapsed": false,
    "pycharm": {
     "name": "#%%\n"
    }
   }
  },
  {
   "cell_type": "code",
   "execution_count": 21,
   "outputs": [
    {
     "data": {
      "text/plain": "Sillian                      POINT (12.41500 46.74694)\nLiezen                       POINT (14.23667 47.57083)\nKlagenfurt                   POINT (14.31861 46.61278)\nBregenz                       POINT (9.75667 47.50722)\nGraz-Andritz                 POINT (15.41583 47.10972)\nLinz-Urfahr                  POINT (14.27528 48.32000)\nWien (Botanischer Garten)    POINT (16.38528 48.19444)\nHollabrunn                   POINT (16.07139 48.57167)\ndtype: geometry"
     },
     "execution_count": 21,
     "metadata": {},
     "output_type": "execute_result"
    }
   ],
   "source": [
    "gdf = gpd.GeoSeries(res, crs='EPSG:4004')\n",
    "gdf"
   ],
   "metadata": {
    "collapsed": false,
    "pycharm": {
     "name": "#%%\n"
    }
   }
  },
  {
   "cell_type": "code",
   "execution_count": 22,
   "outputs": [
    {
     "data": {
      "text/plain": "<Geographic 2D CRS: EPSG:4004>\nName: Unknown datum based upon the Bessel 1841 ellipsoid\nAxis Info [ellipsoidal]:\n- Lat[north]: Geodetic latitude (degree)\n- Lon[east]: Geodetic longitude (degree)\nArea of Use:\n- name: Not specified.\n- bounds: (-180.0, -90.0, 180.0, 90.0)\nDatum: Not specified (based on Bessel 1841 ellipsoid)\n- Ellipsoid: Bessel 1841\n- Prime Meridian: Greenwich"
     },
     "execution_count": 22,
     "metadata": {},
     "output_type": "execute_result"
    }
   ],
   "source": [
    "gdf.crs"
   ],
   "metadata": {
    "collapsed": false,
    "pycharm": {
     "name": "#%%\n"
    }
   }
  },
  {
   "cell_type": "code",
   "execution_count": 23,
   "outputs": [
    {
     "data": {
      "text/plain": "<AxesSubplot:>"
     },
     "execution_count": 23,
     "metadata": {},
     "output_type": "execute_result"
    },
    {
     "data": {
      "text/plain": "<Figure size 432x288 with 1 Axes>",
      "image/png": "[encoded data removed]"
     },
     "metadata": {
      "needs_background": "light"
     },
     "output_type": "display_data"
    }
   ],
   "source": [
    "gdf.plot()"
   ],
   "metadata": {
    "collapsed": false,
    "pycharm": {
     "name": "#%%\n"
    }
   }
  }
 ],
 "metadata": {
  "kernelspec": {
   "display_name": "Python 3",
   "language": "python",
   "name": "python3"
  },
  "language_info": {
   "codemirror_mode": {
    "name": "ipython",
    "version": 2
   },
   "file_extension": ".py",
   "mimetype": "text/x-python",
   "name": "python",
   "nbconvert_exporter": "python",
   "pygments_lexer": "ipython2",
   "version": "2.7.6"
  }
 },
 "nbformat": 4,
 "nbformat_minor": 0
}